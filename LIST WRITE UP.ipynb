{
 "cells": [
  {
   "cell_type": "markdown",
   "id": "3ea248af",
   "metadata": {},
   "source": [
    "# -------------------------LISTS------------------------------"
   ]
  },
  {
   "cell_type": "markdown",
   "id": "c27f9d39",
   "metadata": {},
   "source": [
    "##### HOW TO READ LISTS:"
   ]
  },
  {
   "cell_type": "markdown",
   "id": "6683952c",
   "metadata": {},
   "source": [
    "- the data which represented or written in square braces is called as list.\n",
    "- list is 'array of elements'.\n",
    "   "
   ]
  },
  {
   "cell_type": "code",
   "execution_count": 2,
   "id": "f1395960",
   "metadata": {},
   "outputs": [
    {
     "data": {
      "text/plain": [
       "[1, 2, 3, 4, 5]"
      ]
     },
     "execution_count": 2,
     "metadata": {},
     "output_type": "execute_result"
    }
   ],
   "source": [
    "l1=[1,2,3,4,5]\n",
    "l1"
   ]
  },
  {
   "cell_type": "code",
   "execution_count": 3,
   "id": "889702fd",
   "metadata": {},
   "outputs": [
    {
     "data": {
      "text/plain": [
       "['A', 'B', 'C', 'D', 'E']"
      ]
     },
     "execution_count": 3,
     "metadata": {},
     "output_type": "execute_result"
    }
   ],
   "source": [
    "l2=['A','B','C','D','E']\n",
    "l2"
   ]
  },
  {
   "cell_type": "code",
   "execution_count": 4,
   "id": "3de48d48",
   "metadata": {},
   "outputs": [
    {
     "data": {
      "text/plain": [
       "[1, 2, 3, 'A', 'B', 'C']"
      ]
     },
     "execution_count": 4,
     "metadata": {},
     "output_type": "execute_result"
    }
   ],
   "source": [
    "l3=[1,2,3,'A','B','C']\n",
    "l3"
   ]
  },
  {
   "cell_type": "markdown",
   "id": "8bbd90b2",
   "metadata": {},
   "source": [
    "###### In list elements, heterogenous data types are allowed."
   ]
  },
  {
   "cell_type": "code",
   "execution_count": 8,
   "id": "aec5eed2",
   "metadata": {},
   "outputs": [
    {
     "data": {
      "text/plain": [
       "[1, 'apple', 10.5, (1+3j), True]"
      ]
     },
     "execution_count": 8,
     "metadata": {},
     "output_type": "execute_result"
    }
   ],
   "source": [
    "l4=[1,'apple',10.5,(1+3j),True]\n",
    "l4"
   ]
  },
  {
   "cell_type": "markdown",
   "id": "6c863cef",
   "metadata": {},
   "source": [
    "###### In list elements,duplicates are also allowed."
   ]
  },
  {
   "cell_type": "code",
   "execution_count": 6,
   "id": "e3387954",
   "metadata": {},
   "outputs": [
    {
     "data": {
      "text/plain": [
       "[100, 100, 100]"
      ]
     },
     "execution_count": 6,
     "metadata": {},
     "output_type": "execute_result"
    }
   ],
   "source": [
    "l5=[100,100,100]\n",
    "l5"
   ]
  },
  {
   "cell_type": "markdown",
   "id": "b9527840",
   "metadata": {},
   "source": [
    "###### In list elements,list in list also works."
   ]
  },
  {
   "cell_type": "code",
   "execution_count": 7,
   "id": "a628d11f",
   "metadata": {},
   "outputs": [
    {
     "data": {
      "text/plain": [
       "[[1, 2, 3]]"
      ]
     },
     "execution_count": 7,
     "metadata": {},
     "output_type": "execute_result"
    }
   ],
   "source": [
    "l6=[[1,2,3]]\n",
    "l6"
   ]
  },
  {
   "cell_type": "markdown",
   "id": "8fcf34a4",
   "metadata": {},
   "source": [
    "$type$"
   ]
  },
  {
   "cell_type": "code",
   "execution_count": 10,
   "id": "5575401b",
   "metadata": {},
   "outputs": [
    {
     "data": {
      "text/plain": [
       "list"
      ]
     },
     "execution_count": 10,
     "metadata": {},
     "output_type": "execute_result"
    }
   ],
   "source": [
    "l1=[1,'apple',10.5,(1+3j),True] \n",
    "type(l1)"
   ]
  },
  {
   "cell_type": "markdown",
   "id": "67038990",
   "metadata": {},
   "source": [
    "$length$"
   ]
  },
  {
   "cell_type": "code",
   "execution_count": 11,
   "id": "d91ba6d8",
   "metadata": {},
   "outputs": [
    {
     "data": {
      "text/plain": [
       "5"
      ]
     },
     "execution_count": 11,
     "metadata": {},
     "output_type": "execute_result"
    }
   ],
   "source": [
    "l1=[1,'apple',10.5,(1+3j),True]   #it describes the length of the list\n",
    "len(l1)"
   ]
  },
  {
   "cell_type": "markdown",
   "id": "4eca87f4",
   "metadata": {},
   "source": [
    "$maximum$"
   ]
  },
  {
   "cell_type": "code",
   "execution_count": 12,
   "id": "190cc1eb",
   "metadata": {},
   "outputs": [
    {
     "ename": "TypeError",
     "evalue": "'>' not supported between instances of 'str' and 'int'",
     "output_type": "error",
     "traceback": [
      "\u001b[1;31m---------------------------------------------------------------------------\u001b[0m",
      "\u001b[1;31mTypeError\u001b[0m                                 Traceback (most recent call last)",
      "Cell \u001b[1;32mIn[12], line 2\u001b[0m\n\u001b[0;32m      1\u001b[0m l1\u001b[38;5;241m=\u001b[39m[\u001b[38;5;241m1\u001b[39m,\u001b[38;5;124m'\u001b[39m\u001b[38;5;124mapple\u001b[39m\u001b[38;5;124m'\u001b[39m,\u001b[38;5;241m10.5\u001b[39m,(\u001b[38;5;241m1\u001b[39m\u001b[38;5;241m+\u001b[39m\u001b[38;5;241m3\u001b[39mj),\u001b[38;5;28;01mTrue\u001b[39;00m]  \u001b[38;5;66;03m# it describes the maximum value of the given list\u001b[39;00m\n\u001b[1;32m----> 2\u001b[0m \u001b[38;5;28mmax\u001b[39m(l1)\n",
      "\u001b[1;31mTypeError\u001b[0m: '>' not supported between instances of 'str' and 'int'"
     ]
    }
   ],
   "source": [
    "l1=[1,'apple',10.5,(1+3j),True]  # it describes the maximum value of the given list\n",
    "max(l1)"
   ]
  },
  {
   "cell_type": "code",
   "execution_count": 13,
   "id": "c2f9ccc4",
   "metadata": {},
   "outputs": [
    {
     "data": {
      "text/plain": [
       "5"
      ]
     },
     "execution_count": 13,
     "metadata": {},
     "output_type": "execute_result"
    }
   ],
   "source": [
    "l1=[1,2,3,4,5]\n",
    "max(l1)"
   ]
  },
  {
   "cell_type": "markdown",
   "id": "d9645e39",
   "metadata": {},
   "source": [
    "$minimum$"
   ]
  },
  {
   "cell_type": "code",
   "execution_count": 14,
   "id": "b0f05041",
   "metadata": {},
   "outputs": [
    {
     "data": {
      "text/plain": [
       "'a'"
      ]
     },
     "execution_count": 14,
     "metadata": {},
     "output_type": "execute_result"
    }
   ],
   "source": [
    "l1=['a','b','c'] # it describes the minimum value of the given string by using ascii values\n",
    "min(l1)"
   ]
  },
  {
   "cell_type": "markdown",
   "id": "cfefabd0",
   "metadata": {},
   "source": [
    "$ sum $"
   ]
  },
  {
   "cell_type": "code",
   "execution_count": 1,
   "id": "2d46fd73",
   "metadata": {},
   "outputs": [
    {
     "data": {
      "text/plain": [
       "15"
      ]
     },
     "execution_count": 1,
     "metadata": {},
     "output_type": "execute_result"
    }
   ],
   "source": [
    "l1=[1,2,3,4,5]\n",
    "sum(l1)"
   ]
  },
  {
   "cell_type": "code",
   "execution_count": 5,
   "id": "67406f91",
   "metadata": {},
   "outputs": [
    {
     "ename": "TypeError",
     "evalue": "unsupported operand type(s) for +: 'int' and 'str'",
     "output_type": "error",
     "traceback": [
      "\u001b[1;31m---------------------------------------------------------------------------\u001b[0m",
      "\u001b[1;31mTypeError\u001b[0m                                 Traceback (most recent call last)",
      "Cell \u001b[1;32mIn[5], line 2\u001b[0m\n\u001b[0;32m      1\u001b[0m l2\u001b[38;5;241m=\u001b[39m[\u001b[38;5;124m'\u001b[39m\u001b[38;5;124ma\u001b[39m\u001b[38;5;124m'\u001b[39m,\u001b[38;5;124m'\u001b[39m\u001b[38;5;124mb\u001b[39m\u001b[38;5;124m'\u001b[39m,\u001b[38;5;124m'\u001b[39m\u001b[38;5;124mc\u001b[39m\u001b[38;5;124m'\u001b[39m,\u001b[38;5;124m'\u001b[39m\u001b[38;5;124md\u001b[39m\u001b[38;5;124m'\u001b[39m,\u001b[38;5;124m'\u001b[39m\u001b[38;5;124me\u001b[39m\u001b[38;5;124m'\u001b[39m]\n\u001b[1;32m----> 2\u001b[0m \u001b[38;5;28msum\u001b[39m(l2)\n",
      "\u001b[1;31mTypeError\u001b[0m: unsupported operand type(s) for +: 'int' and 'str'"
     ]
    }
   ],
   "source": [
    "l2=['a','b','c','d','e']\n",
    "sum(l2)"
   ]
  },
  {
   "cell_type": "code",
   "execution_count": 6,
   "id": "97f544e3",
   "metadata": {},
   "outputs": [
    {
     "ename": "TypeError",
     "evalue": "unsupported operand type(s) for +: 'int' and 'str'",
     "output_type": "error",
     "traceback": [
      "\u001b[1;31m---------------------------------------------------------------------------\u001b[0m",
      "\u001b[1;31mTypeError\u001b[0m                                 Traceback (most recent call last)",
      "Cell \u001b[1;32mIn[6], line 2\u001b[0m\n\u001b[0;32m      1\u001b[0m l3\u001b[38;5;241m=\u001b[39m[\u001b[38;5;241m1\u001b[39m,\u001b[38;5;241m2\u001b[39m,\u001b[38;5;241m3\u001b[39m,\u001b[38;5;241m4\u001b[39m,\u001b[38;5;241m5\u001b[39m,\u001b[38;5;124m'\u001b[39m\u001b[38;5;124ma\u001b[39m\u001b[38;5;124m'\u001b[39m,\u001b[38;5;124m'\u001b[39m\u001b[38;5;124mb\u001b[39m\u001b[38;5;124m'\u001b[39m,\u001b[38;5;124m'\u001b[39m\u001b[38;5;124mc\u001b[39m\u001b[38;5;124m'\u001b[39m]\n\u001b[1;32m----> 2\u001b[0m \u001b[38;5;28msum\u001b[39m(l3)\n",
      "\u001b[1;31mTypeError\u001b[0m: unsupported operand type(s) for +: 'int' and 'str'"
     ]
    }
   ],
   "source": [
    "l3=[1,2,3,4,5,'a','b','c']\n",
    "sum(l3)"
   ]
  },
  {
   "cell_type": "markdown",
   "id": "0d47edb0",
   "metadata": {},
   "source": [
    "$Concatenation$"
   ]
  },
  {
   "cell_type": "markdown",
   "id": "3cadbf3b",
   "metadata": {},
   "source": [
    "- concatenation means addition of two lists"
   ]
  },
  {
   "cell_type": "code",
   "execution_count": 18,
   "id": "951e81ba",
   "metadata": {},
   "outputs": [
    {
     "data": {
      "text/plain": [
       "[1, 2, 3, 4, 5, 5, 6, 7, 8, 9]"
      ]
     },
     "execution_count": 18,
     "metadata": {},
     "output_type": "execute_result"
    }
   ],
   "source": [
    "L1=[1,2,3,4,5]\n",
    "L2=[5,6,7,8,9]\n",
    "L1+L2"
   ]
  },
  {
   "cell_type": "code",
   "execution_count": 19,
   "id": "06549dd4",
   "metadata": {},
   "outputs": [
    {
     "data": {
      "text/plain": [
       "[5, 6, 7, 8, 9, 1, 2, 3, 4, 5]"
      ]
     },
     "execution_count": 19,
     "metadata": {},
     "output_type": "execute_result"
    }
   ],
   "source": [
    "L2+L1"
   ]
  },
  {
   "cell_type": "markdown",
   "id": "9d4c02ce",
   "metadata": {},
   "source": [
    "$Multiplication$"
   ]
  },
  {
   "cell_type": "markdown",
   "id": "0e1a5303",
   "metadata": {},
   "source": [
    "- we can't multiply sequence by non-int of type string"
   ]
  },
  {
   "cell_type": "code",
   "execution_count": 7,
   "id": "2a128c88",
   "metadata": {},
   "outputs": [
    {
     "ename": "TypeError",
     "evalue": "can't multiply sequence by non-int of type 'list'",
     "output_type": "error",
     "traceback": [
      "\u001b[1;31m---------------------------------------------------------------------------\u001b[0m",
      "\u001b[1;31mTypeError\u001b[0m                                 Traceback (most recent call last)",
      "Cell \u001b[1;32mIn[7], line 3\u001b[0m\n\u001b[0;32m      1\u001b[0m l1\u001b[38;5;241m=\u001b[39m[\u001b[38;5;241m1\u001b[39m,\u001b[38;5;241m2\u001b[39m,\u001b[38;5;241m3\u001b[39m,\u001b[38;5;241m4\u001b[39m,\u001b[38;5;241m5\u001b[39m]\n\u001b[0;32m      2\u001b[0m l2\u001b[38;5;241m=\u001b[39m[\u001b[38;5;124m'\u001b[39m\u001b[38;5;124ma\u001b[39m\u001b[38;5;124m'\u001b[39m,\u001b[38;5;124m'\u001b[39m\u001b[38;5;124mb\u001b[39m\u001b[38;5;124m'\u001b[39m,\u001b[38;5;124m'\u001b[39m\u001b[38;5;124mc\u001b[39m\u001b[38;5;124m'\u001b[39m,\u001b[38;5;124m'\u001b[39m\u001b[38;5;124md\u001b[39m\u001b[38;5;124m'\u001b[39m,\u001b[38;5;124m'\u001b[39m\u001b[38;5;124me\u001b[39m\u001b[38;5;124m'\u001b[39m]\n\u001b[1;32m----> 3\u001b[0m l1\u001b[38;5;241m*\u001b[39ml2\n",
      "\u001b[1;31mTypeError\u001b[0m: can't multiply sequence by non-int of type 'list'"
     ]
    }
   ],
   "source": [
    "l1=[1,2,3,4,5]\n",
    "l2=['a','b','c','d','e']\n",
    "l1*l2"
   ]
  },
  {
   "cell_type": "code",
   "execution_count": 9,
   "id": "4a86324e",
   "metadata": {},
   "outputs": [
    {
     "data": {
      "text/plain": [
       "[1, 2, 3, 4, 5, 1, 2, 3, 4, 5, 1, 2, 3, 4, 5]"
      ]
     },
     "execution_count": 9,
     "metadata": {},
     "output_type": "execute_result"
    }
   ],
   "source": [
    "l1=[1,2,3,4,5]\n",
    "l1*3"
   ]
  },
  {
   "cell_type": "markdown",
   "id": "83e028ce",
   "metadata": {},
   "source": [
    "$subtraction$"
   ]
  },
  {
   "cell_type": "markdown",
   "id": "50328da5",
   "metadata": {},
   "source": [
    "- we cant subtract two lists it gives error"
   ]
  },
  {
   "cell_type": "code",
   "execution_count": 10,
   "id": "e2243442",
   "metadata": {},
   "outputs": [
    {
     "ename": "TypeError",
     "evalue": "unsupported operand type(s) for -: 'list' and 'list'",
     "output_type": "error",
     "traceback": [
      "\u001b[1;31m---------------------------------------------------------------------------\u001b[0m",
      "\u001b[1;31mTypeError\u001b[0m                                 Traceback (most recent call last)",
      "Cell \u001b[1;32mIn[10], line 3\u001b[0m\n\u001b[0;32m      1\u001b[0m l1\u001b[38;5;241m=\u001b[39m[\u001b[38;5;241m1\u001b[39m,\u001b[38;5;241m2\u001b[39m,\u001b[38;5;241m3\u001b[39m,\u001b[38;5;241m4\u001b[39m,\u001b[38;5;241m5\u001b[39m]\n\u001b[0;32m      2\u001b[0m l2\u001b[38;5;241m=\u001b[39m[\u001b[38;5;241m1\u001b[39m,\u001b[38;5;241m5\u001b[39m,\u001b[38;5;241m3\u001b[39m,\u001b[38;5;241m6\u001b[39m,\u001b[38;5;241m7\u001b[39m]\n\u001b[1;32m----> 3\u001b[0m l1\u001b[38;5;241m-\u001b[39ml2\n",
      "\u001b[1;31mTypeError\u001b[0m: unsupported operand type(s) for -: 'list' and 'list'"
     ]
    }
   ],
   "source": [
    "l1=[1,2,3,4,5]\n",
    "l2=[1,5,3,6,7]\n",
    "l1-l2"
   ]
  },
  {
   "cell_type": "markdown",
   "id": "3e28c599",
   "metadata": {},
   "source": [
    "$division$"
   ]
  },
  {
   "cell_type": "markdown",
   "id": "ecb2719b",
   "metadata": {},
   "source": [
    "-similarly we cant divide two lists.it is also gives an error as like substraction."
   ]
  },
  {
   "cell_type": "code",
   "execution_count": 11,
   "id": "459d3d22",
   "metadata": {},
   "outputs": [
    {
     "ename": "TypeError",
     "evalue": "unsupported operand type(s) for /: 'list' and 'list'",
     "output_type": "error",
     "traceback": [
      "\u001b[1;31m---------------------------------------------------------------------------\u001b[0m",
      "\u001b[1;31mTypeError\u001b[0m                                 Traceback (most recent call last)",
      "Cell \u001b[1;32mIn[11], line 3\u001b[0m\n\u001b[0;32m      1\u001b[0m l1\u001b[38;5;241m=\u001b[39m[\u001b[38;5;241m1\u001b[39m,\u001b[38;5;241m2\u001b[39m,\u001b[38;5;241m3\u001b[39m,\u001b[38;5;241m4\u001b[39m,\u001b[38;5;241m5\u001b[39m]\n\u001b[0;32m      2\u001b[0m l2\u001b[38;5;241m=\u001b[39m[\u001b[38;5;241m1\u001b[39m,\u001b[38;5;241m5\u001b[39m,\u001b[38;5;241m3\u001b[39m,\u001b[38;5;241m6\u001b[39m,\u001b[38;5;241m7\u001b[39m]\n\u001b[1;32m----> 3\u001b[0m l1\u001b[38;5;241m/\u001b[39ml2\n",
      "\u001b[1;31mTypeError\u001b[0m: unsupported operand type(s) for /: 'list' and 'list'"
     ]
    }
   ],
   "source": [
    "l1=[1,2,3,4,5]\n",
    "l2=[1,5,3,6,7]\n",
    "l1/l2"
   ]
  },
  {
   "cell_type": "markdown",
   "id": "c3a48c30",
   "metadata": {},
   "source": [
    "###### in opertor (for loop)"
   ]
  },
  {
   "cell_type": "code",
   "execution_count": 14,
   "id": "d759566c",
   "metadata": {},
   "outputs": [
    {
     "name": "stdout",
     "output_type": "stream",
     "text": [
      "1\n",
      "2\n",
      "3\n",
      "4\n",
      "5\n"
     ]
    }
   ],
   "source": [
    "list1=[1,2,3,4,5]\n",
    "for i in list1:\n",
    "    print(i)"
   ]
  },
  {
   "cell_type": "code",
   "execution_count": 16,
   "id": "3d301a2e",
   "metadata": {},
   "outputs": [
    {
     "name": "stdout",
     "output_type": "stream",
     "text": [
      "love\n",
      "like\n",
      "life\n"
     ]
    }
   ],
   "source": [
    "list1=[\"love\",\"like\",\"life\"]\n",
    "for i in list1:\n",
    "    print(i)"
   ]
  },
  {
   "cell_type": "markdown",
   "id": "3aac746c",
   "metadata": {},
   "source": [
    "$Index$"
   ]
  },
  {
   "cell_type": "markdown",
   "id": "7501e11c",
   "metadata": {},
   "source": [
    "- Index is used to find the sequence number of the element\n",
    "- index is representeed in[] \n",
    "- it is a numeric value"
   ]
  },
  {
   "cell_type": "code",
   "execution_count": 20,
   "id": "fc2de1ff",
   "metadata": {},
   "outputs": [
    {
     "data": {
      "text/plain": [
       "'priya'"
      ]
     },
     "execution_count": 20,
     "metadata": {},
     "output_type": "execute_result"
    }
   ],
   "source": [
    "list1=[1,2,3,'a','b','c','priya']\n",
    "list1[-1]"
   ]
  },
  {
   "cell_type": "markdown",
   "id": "985e9e7e",
   "metadata": {},
   "source": [
    "- here,in this list1[-1]=====> [a] indicates index of the last element in list1"
   ]
  },
  {
   "cell_type": "code",
   "execution_count": 22,
   "id": "17a9c0a2",
   "metadata": {},
   "outputs": [
    {
     "data": {
      "text/plain": [
       "(3, 'c', 1)"
      ]
     },
     "execution_count": 22,
     "metadata": {},
     "output_type": "execute_result"
    }
   ],
   "source": [
    "list1[2],list1[5],list1[0]"
   ]
  },
  {
   "cell_type": "code",
   "execution_count": 24,
   "id": "c2917178",
   "metadata": {},
   "outputs": [
    {
     "data": {
      "text/plain": [
       "'priya'"
      ]
     },
     "execution_count": 24,
     "metadata": {},
     "output_type": "execute_result"
    }
   ],
   "source": [
    "list2=[1,2,3,[\"priya\",\"ammu\"]]\n",
    "# find index of priya?\n",
    "list2[3][0] #===========> index of priya"
   ]
  },
  {
   "cell_type": "markdown",
   "id": "6fc976a4",
   "metadata": {},
   "source": [
    "$mutable$-$immutable$ $condition$"
   ]
  },
  {
   "cell_type": "markdown",
   "id": "38602073",
   "metadata": {},
   "source": [
    "- mutable means we can change; immutable means we cant change.\n",
    "- lists are mutable.`"
   ]
  },
  {
   "cell_type": "code",
   "execution_count": 25,
   "id": "a3ce9a84",
   "metadata": {},
   "outputs": [
    {
     "data": {
      "text/plain": [
       "['a', 'b', 0, 1, 2, 3]"
      ]
     },
     "execution_count": 25,
     "metadata": {},
     "output_type": "execute_result"
    }
   ],
   "source": [
    "l1=[\"a\",\"b\",\"c\",1,2,3]\n",
    "l1[2]=0\n",
    "l1"
   ]
  },
  {
   "cell_type": "markdown",
   "id": "edc24fd9",
   "metadata": {},
   "source": [
    "$slice$"
   ]
  },
  {
   "cell_type": "markdown",
   "id": "edd908da",
   "metadata": {},
   "source": [
    "-it is used to cut the sequence in the given list"
   ]
  },
  {
   "cell_type": "code",
   "execution_count": 26,
   "id": "67253545",
   "metadata": {},
   "outputs": [
    {
     "data": {
      "text/plain": [
       "[1, 2, 3, 4, 5]"
      ]
     },
     "execution_count": 26,
     "metadata": {},
     "output_type": "execute_result"
    }
   ],
   "source": [
    "l1=[1,2,3,4,5,'a','b','c','d','e','f']\n",
    "l1[0:5:1]"
   ]
  },
  {
   "cell_type": "code",
   "execution_count": 27,
   "id": "9e5ade1b",
   "metadata": {},
   "outputs": [
    {
     "data": {
      "text/plain": [
       "['e', 'c', 'a']"
      ]
     },
     "execution_count": 27,
     "metadata": {},
     "output_type": "execute_result"
    }
   ],
   "source": [
    "l1[-2:-8:-2]"
   ]
  },
  {
   "cell_type": "markdown",
   "id": "ef1feb68",
   "metadata": {},
   "source": [
    "$clear$-$copy$"
   ]
  },
  {
   "cell_type": "markdown",
   "id": "a5627c7e",
   "metadata": {},
   "source": [
    "- clear is used to remove the existed elements in a list\n",
    "- copy is used to copy the existed elements of list to another list"
   ]
  },
  {
   "cell_type": "code",
   "execution_count": 29,
   "id": "0883e499",
   "metadata": {},
   "outputs": [
    {
     "data": {
      "text/plain": [
       "[1, 2, 3, 4, 5]"
      ]
     },
     "execution_count": 29,
     "metadata": {},
     "output_type": "execute_result"
    }
   ],
   "source": [
    "l1=[1,2,3,4,5]\n",
    "l2=l1.copy()\n",
    "l2"
   ]
  },
  {
   "cell_type": "code",
   "execution_count": 31,
   "id": "261f6b35",
   "metadata": {},
   "outputs": [],
   "source": [
    "l1.clear()"
   ]
  },
  {
   "cell_type": "code",
   "execution_count": 32,
   "id": "171c26e0",
   "metadata": {},
   "outputs": [
    {
     "name": "stdout",
     "output_type": "stream",
     "text": [
      "list1 is:- []\n",
      "list2 is:- [1, 2, 3, 4, 5]\n"
     ]
    }
   ],
   "source": [
    "print(\"list1 is:-\",l1)\n",
    "print(\"list2 is:-\",l2)"
   ]
  },
  {
   "cell_type": "markdown",
   "id": "e77e1619",
   "metadata": {},
   "source": [
    "$Append$"
   ]
  },
  {
   "cell_type": "markdown",
   "id": "7b202e1f",
   "metadata": {},
   "source": [
    "- it is used to add somenthing at the end of a written doccument"
   ]
  },
  {
   "cell_type": "code",
   "execution_count": 34,
   "id": "5e7a30da",
   "metadata": {},
   "outputs": [
    {
     "data": {
      "text/plain": [
       "[100, 200, 300, ['apple', 'banana', 'mango']]"
      ]
     },
     "execution_count": 34,
     "metadata": {},
     "output_type": "execute_result"
    }
   ],
   "source": [
    "l1=[100,200,300]\n",
    "l2=['apple','banana','mango']\n",
    "l1.append(l2)\n",
    "l1"
   ]
  },
  {
   "cell_type": "code",
   "execution_count": 35,
   "id": "4b0a0d2e",
   "metadata": {},
   "outputs": [
    {
     "data": {
      "text/plain": [
       "[100, 200, 300, 500]"
      ]
     },
     "execution_count": 35,
     "metadata": {},
     "output_type": "execute_result"
    }
   ],
   "source": [
    "l1=[100,200,300]\n",
    "l1.append(500)\n",
    "l1"
   ]
  },
  {
   "cell_type": "code",
   "execution_count": 36,
   "id": "82439d96",
   "metadata": {},
   "outputs": [
    {
     "ename": "TypeError",
     "evalue": "list.append() takes exactly one argument (2 given)",
     "output_type": "error",
     "traceback": [
      "\u001b[1;31m---------------------------------------------------------------------------\u001b[0m",
      "\u001b[1;31mTypeError\u001b[0m                                 Traceback (most recent call last)",
      "Cell \u001b[1;32mIn[36], line 2\u001b[0m\n\u001b[0;32m      1\u001b[0m l1\u001b[38;5;241m=\u001b[39m[\u001b[38;5;241m100\u001b[39m,\u001b[38;5;241m200\u001b[39m,\u001b[38;5;241m300\u001b[39m]\n\u001b[1;32m----> 2\u001b[0m l1\u001b[38;5;241m.\u001b[39mappend(\u001b[38;5;241m400\u001b[39m,\u001b[38;5;241m500\u001b[39m)\n\u001b[0;32m      3\u001b[0m l1\n",
      "\u001b[1;31mTypeError\u001b[0m: list.append() takes exactly one argument (2 given)"
     ]
    }
   ],
   "source": [
    "l1=[100,200,300]\n",
    "l1.append(400,500)\n",
    "l1"
   ]
  },
  {
   "cell_type": "markdown",
   "id": "994e11ea",
   "metadata": {},
   "source": [
    "### LIST Methods:"
   ]
  },
  {
   "cell_type": "markdown",
   "id": "66d10314",
   "metadata": {},
   "source": [
    "- methods are used to simplify the large steps of programs\n",
    "- they are several types of methods are there in lists\n",
    "- some of them are shown below"
   ]
  },
  {
   "cell_type": "markdown",
   "id": "7318d6c9",
   "metadata": {},
   "source": [
    "$capitalise$ $method$"
   ]
  },
  {
   "cell_type": "markdown",
   "id": "bbf0d48b",
   "metadata": {},
   "source": [
    "- this method is used to capitalise the word"
   ]
  },
  {
   "cell_type": "code",
   "execution_count": 37,
   "id": "eae4a326",
   "metadata": {},
   "outputs": [
    {
     "name": "stdout",
     "output_type": "stream",
     "text": [
      "Hyd\n",
      "Chennai\n",
      "Mumbai\n"
     ]
    }
   ],
   "source": [
    "l1=[\"hyd\",\"chennai\",\"mumbai\"]\n",
    "for i in l1:\n",
    "    print(i.capitalize())"
   ]
  },
  {
   "cell_type": "markdown",
   "id": "5720d03f",
   "metadata": {},
   "source": [
    "$Count$"
   ]
  },
  {
   "cell_type": "markdown",
   "id": "7887c4c8",
   "metadata": {},
   "source": [
    "- it is used to find the no of times which an element repeats."
   ]
  },
  {
   "cell_type": "code",
   "execution_count": 39,
   "id": "1aabdd95",
   "metadata": {},
   "outputs": [
    {
     "data": {
      "text/plain": [
       "3"
      ]
     },
     "execution_count": 39,
     "metadata": {},
     "output_type": "execute_result"
    }
   ],
   "source": [
    "l1=[1,2,3,4,5,'a','b','c','b','c','c']\n",
    "l1.count('c')"
   ]
  },
  {
   "cell_type": "markdown",
   "id": "c8f89911",
   "metadata": {},
   "source": [
    "$Extend$"
   ]
  },
  {
   "cell_type": "markdown",
   "id": "baf96316",
   "metadata": {},
   "source": [
    "- this operator is used to prolong the list by using another list"
   ]
  },
  {
   "cell_type": "code",
   "execution_count": 41,
   "id": "c8c21cf2",
   "metadata": {},
   "outputs": [
    {
     "data": {
      "text/plain": [
       "['a', 'b', 'c', 1, 2, 3, 4, 5]"
      ]
     },
     "execution_count": 41,
     "metadata": {},
     "output_type": "execute_result"
    }
   ],
   "source": [
    "l1=['a','b','c']\n",
    "l2=[1,2,3,4,5]\n",
    "l1.extend(l2)\n",
    "l1\n",
    "#  in extend method, the list1 values will be updates with list2 values"
   ]
  },
  {
   "cell_type": "code",
   "execution_count": 42,
   "id": "346d790e",
   "metadata": {},
   "outputs": [
    {
     "data": {
      "text/plain": [
       "['a', 'b', 'c', 1, 2, 3, 4, 5]"
      ]
     },
     "execution_count": 42,
     "metadata": {},
     "output_type": "execute_result"
    }
   ],
   "source": [
    "l1=['a','b','c']\n",
    "l2=[1,2,3,4,5]\n",
    "l1+l2 # l1+l2 is a new list\n",
    "# in concatenation menthod , a new list will be created ti update the values of list1 and list2"
   ]
  },
  {
   "cell_type": "code",
   "execution_count": 44,
   "id": "2e35ecc6",
   "metadata": {},
   "outputs": [
    {
     "data": {
      "text/plain": [
       "['a', 'b', 'c', [1, 2, 3, 4, 5]]"
      ]
     },
     "execution_count": 44,
     "metadata": {},
     "output_type": "execute_result"
    }
   ],
   "source": [
    "l1=['a','b','c']\n",
    "l2=[1,2,3,4,5]\n",
    "l1.append(l2)\n",
    "l1\n",
    "# in append method, only a single element can directly append or a sub list may formed in main list"
   ]
  },
  {
   "cell_type": "markdown",
   "id": "349d8ebc",
   "metadata": {},
   "source": [
    "$Append---Extend---Concatenation$"
   ]
  },
  {
   "cell_type": "markdown",
   "id": "2641bf85",
   "metadata": {},
   "source": [
    "- append will add the element at last, that element can be any type as shown above"
   ]
  },
  {
   "cell_type": "markdown",
   "id": "9cab1d7b",
   "metadata": {},
   "source": [
    "- extend will update the lsit by adding new elements, the result also saved in same list as shown above"
   ]
  },
  {
   "cell_type": "markdown",
   "id": "5e655c1d",
   "metadata": {},
   "source": [
    "- concatenation will add two lists,but the results will not update in same list as shown above"
   ]
  },
  {
   "cell_type": "markdown",
   "id": "05eb52bd",
   "metadata": {},
   "source": [
    "$Reversed$"
   ]
  },
  {
   "cell_type": "markdown",
   "id": "18f051fb",
   "metadata": {},
   "source": [
    "- it is used to reverse a word "
   ]
  },
  {
   "cell_type": "code",
   "execution_count": 45,
   "id": "a0db16f9",
   "metadata": {},
   "outputs": [
    {
     "data": {
      "text/plain": [
       "<reversed at 0x27cb4c5bac0>"
      ]
     },
     "execution_count": 45,
     "metadata": {},
     "output_type": "execute_result"
    }
   ],
   "source": [
    "reversed(\"python\")"
   ]
  },
  {
   "cell_type": "code",
   "execution_count": 48,
   "id": "77213aac",
   "metadata": {},
   "outputs": [
    {
     "name": "stdout",
     "output_type": "stream",
     "text": [
      "nohtyp"
     ]
    }
   ],
   "source": [
    "# we didnt get output directly with reversed key,thats why in order to get output we used a varible as shown below\n",
    "rev=reversed(\"python\")\n",
    "for i in rev:\n",
    "    print(i,end='')"
   ]
  },
  {
   "cell_type": "markdown",
   "id": "430e2409",
   "metadata": {},
   "source": [
    "$pop--remove--del$"
   ]
  },
  {
   "cell_type": "markdown",
   "id": "568768fc",
   "metadata": {},
   "source": [
    "- pop is used to remove and return element in a list\n",
    "- remove is used to remove an element in a list\n",
    "- del is used to remove entire list. del is a keyword and we can apply it for any data type"
   ]
  },
  {
   "cell_type": "code",
   "execution_count": 13,
   "id": "618d577d",
   "metadata": {},
   "outputs": [
    {
     "data": {
      "text/plain": [
       "5"
      ]
     },
     "execution_count": 13,
     "metadata": {},
     "output_type": "execute_result"
    }
   ],
   "source": [
    "list5=['a','b','c','d','e',1,2,3,4,5]\n",
    "list5.pop()"
   ]
  },
  {
   "cell_type": "code",
   "execution_count": 18,
   "id": "0b865978",
   "metadata": {},
   "outputs": [
    {
     "data": {
      "text/plain": [
       "[100, 200, 300, 500]"
      ]
     },
     "execution_count": 18,
     "metadata": {},
     "output_type": "execute_result"
    }
   ],
   "source": [
    "list6=[100,200,300,400,500]\n",
    "list6.remove(400)\n",
    "list6"
   ]
  },
  {
   "cell_type": "code",
   "execution_count": 19,
   "id": "7e671b08",
   "metadata": {},
   "outputs": [
    {
     "ename": "NameError",
     "evalue": "name 'list7' is not defined",
     "output_type": "error",
     "traceback": [
      "\u001b[1;31m---------------------------------------------------------------------------\u001b[0m",
      "\u001b[1;31mNameError\u001b[0m                                 Traceback (most recent call last)",
      "Cell \u001b[1;32mIn[19], line 3\u001b[0m\n\u001b[0;32m      1\u001b[0m list7\u001b[38;5;241m=\u001b[39m[\u001b[38;5;241m1\u001b[39m,\u001b[38;5;241m2\u001b[39m,\u001b[38;5;241m3\u001b[39m,\u001b[38;5;241m4\u001b[39m,\u001b[38;5;241m5\u001b[39m]\n\u001b[0;32m      2\u001b[0m \u001b[38;5;28;01mdel\u001b[39;00m(list7)\n\u001b[1;32m----> 3\u001b[0m list7\n",
      "\u001b[1;31mNameError\u001b[0m: name 'list7' is not defined"
     ]
    }
   ],
   "source": [
    "list7=[1,2,3,4,5]\n",
    "del(list7)\n",
    "list7"
   ]
  },
  {
   "cell_type": "markdown",
   "id": "6f43696a",
   "metadata": {},
   "source": [
    "$Directories$-$of$-$list$"
   ]
  },
  {
   "cell_type": "code",
   "execution_count": 20,
   "id": "f8973ac0",
   "metadata": {},
   "outputs": [
    {
     "data": {
      "text/plain": [
       "['__add__',\n",
       " '__class__',\n",
       " '__class_getitem__',\n",
       " '__contains__',\n",
       " '__delattr__',\n",
       " '__delitem__',\n",
       " '__dir__',\n",
       " '__doc__',\n",
       " '__eq__',\n",
       " '__format__',\n",
       " '__ge__',\n",
       " '__getattribute__',\n",
       " '__getitem__',\n",
       " '__getstate__',\n",
       " '__gt__',\n",
       " '__hash__',\n",
       " '__iadd__',\n",
       " '__imul__',\n",
       " '__init__',\n",
       " '__init_subclass__',\n",
       " '__iter__',\n",
       " '__le__',\n",
       " '__len__',\n",
       " '__lt__',\n",
       " '__mul__',\n",
       " '__ne__',\n",
       " '__new__',\n",
       " '__reduce__',\n",
       " '__reduce_ex__',\n",
       " '__repr__',\n",
       " '__reversed__',\n",
       " '__rmul__',\n",
       " '__setattr__',\n",
       " '__setitem__',\n",
       " '__sizeof__',\n",
       " '__str__',\n",
       " '__subclasshook__',\n",
       " 'append',\n",
       " 'clear',\n",
       " 'copy',\n",
       " 'count',\n",
       " 'extend',\n",
       " 'index',\n",
       " 'insert',\n",
       " 'pop',\n",
       " 'remove',\n",
       " 'reverse',\n",
       " 'sort']"
      ]
     },
     "execution_count": 20,
     "metadata": {},
     "output_type": "execute_result"
    }
   ],
   "source": [
    "dir(list)"
   ]
  },
  {
   "cell_type": "markdown",
   "id": "d3ea0c96",
   "metadata": {},
   "source": [
    "# -------------------------- THE END---------------------------------"
   ]
  }
 ],
 "metadata": {
  "kernelspec": {
   "display_name": "Python 3 (ipykernel)",
   "language": "python",
   "name": "python3"
  },
  "language_info": {
   "codemirror_mode": {
    "name": "ipython",
    "version": 3
   },
   "file_extension": ".py",
   "mimetype": "text/x-python",
   "name": "python",
   "nbconvert_exporter": "python",
   "pygments_lexer": "ipython3",
   "version": "3.11.5"
  }
 },
 "nbformat": 4,
 "nbformat_minor": 5
}
