{
 "cells": [
  {
   "cell_type": "markdown",
   "id": "fd0d5064",
   "metadata": {},
   "source": [
    "# ----------------------------------PYTHON------------------------------                                        "
   ]
  },
  {
   "cell_type": "markdown",
   "id": "cf23392d",
   "metadata": {},
   "source": [
    "- python is a programming language \n",
    "- used to build websites and software, automate tasks, and conduct data analysis.\n",
    "- it consist of three level they are given below"
   ]
  },
  {
   "cell_type": "markdown",
   "id": "0b484779",
   "metadata": {},
   "source": [
    "### level-I"
   ]
  },
  {
   "cell_type": "markdown",
   "id": "842f5ebd",
   "metadata": {},
   "source": [
    "- BASIC SYNTAX\n",
    "- VARIABLES\n",
    "- PYTHON PACAKAGE INFORMATION\n",
    "- BASIC PYTHON CODES\n",
    "- CONDITIONAL STATEMENTS\n",
    "- FUNCTIONS\n",
    "- LOOPING"
   ]
  },
  {
   "cell_type": "markdown",
   "id": "e1d3ea05",
   "metadata": {},
   "source": [
    "### level-II"
   ]
  },
  {
   "cell_type": "markdown",
   "id": "93d1350f",
   "metadata": {},
   "source": [
    "- STRINGS\n",
    "- LIST\n",
    "- DICTIONARY\n",
    "- TUPILS\n",
    "- SETS\n",
    "- FILE HANDLING SESSIONS"
   ]
  },
  {
   "cell_type": "markdown",
   "id": "76a8b9dc",
   "metadata": {},
   "source": [
    "### level-III"
   ]
  },
  {
   "cell_type": "markdown",
   "id": "0b1bb482",
   "metadata": {},
   "source": [
    "- OOPS CONCEPT IN PYTHON\n",
    "- HOW TO CREATE YOUR OWN PACKAGE\n",
    "- HOW TO CREATE FLASK APPS"
   ]
  },
  {
   "cell_type": "markdown",
   "id": "b9ec592c",
   "metadata": {},
   "source": [
    "$Basic$-$Syntax$"
   ]
  },
  {
   "cell_type": "markdown",
   "id": "3d8f992e",
   "metadata": {},
   "source": [
    "- The syntax of the Python programming language is the set of rules that defines\n",
    "  how a Python program will be written and interpreted"
   ]
  },
  {
   "cell_type": "markdown",
   "id": "59f53e42",
   "metadata": {},
   "source": [
    "$ Variables $"
   ]
  },
  {
   "cell_type": "markdown",
   "id": "ba894f2b",
   "metadata": {},
   "source": [
    "- IF WE WANT TO SAVE SOME ELEMENTS AT SOME PLACE, IN THAT CASE WE USE VARIABLES\n",
    "- VARIABLES and CONSTANTS ARE THERE IN THIS"
   ]
  },
  {
   "cell_type": "markdown",
   "id": "f9a5287b",
   "metadata": {},
   "source": [
    "$Data$-$Types$"
   ]
  },
  {
   "cell_type": "markdown",
   "id": "6af55fe8",
   "metadata": {},
   "source": [
    "##### -THESE ARE 5 TYPES. THEY ARE\n",
    "\n",
    "- INTEGERS  \n",
    "     * Written as int\n",
    "- FLOAT     \n",
    "     * Written as float\n",
    "- STRING    \n",
    "     * Written as str\n",
    "- BOOLEAN   \n",
    "     * Written as bool\n",
    "- COMPLEX CONJUCATION   \n",
    "     * Written as complex"
   ]
  },
  {
   "cell_type": "markdown",
   "id": "6a03e3d2",
   "metadata": {},
   "source": [
    "### Integers"
   ]
  },
  {
   "cell_type": "markdown",
   "id": "cc7e76a5",
   "metadata": {},
   "source": [
    "###### in maths we have differnet types of number systems \n",
    "- decimal\n",
    "- binary\n",
    "- octal\n",
    "- hexa"
   ]
  },
  {
   "cell_type": "markdown",
   "id": "f31e9e83",
   "metadata": {},
   "source": [
    "$Decimal$"
   ]
  },
  {
   "cell_type": "markdown",
   "id": "abfd6a70",
   "metadata": {},
   "source": [
    "- If your number has a decimal, Python will automatically consider it a float. \n",
    "- If it does not, it will automatically consider it an integer."
   ]
  },
  {
   "cell_type": "code",
   "execution_count": 10,
   "id": "00f843cd",
   "metadata": {},
   "outputs": [
    {
     "data": {
      "text/plain": [
       "float"
      ]
     },
     "execution_count": 10,
     "metadata": {},
     "output_type": "execute_result"
    }
   ],
   "source": [
    "num=5.63\n",
    "type(num)"
   ]
  },
  {
   "cell_type": "markdown",
   "id": "1db750f8",
   "metadata": {},
   "source": [
    "$Binary$"
   ]
  },
  {
   "cell_type": "markdown",
   "id": "09819041",
   "metadata": {},
   "source": [
    "* BI MEANS 2\n",
    "* THEN THE BASE IS ALSO 2\n",
    "* 0,1,2,3,4,5,6,7,8,9\n",
    "* HERE WE WILL ONLY USE BINARY CODES THAT ARE 0 AND 1\n",
    "* THE REPRESENTATION IS WITH ob(WITH COMBINATION OF 0 AND 1)\n",
    "* EX:- ob111 & ob01101"
   ]
  },
  {
   "cell_type": "code",
   "execution_count": 16,
   "id": "c03165e9",
   "metadata": {},
   "outputs": [
    {
     "data": {
      "text/plain": [
       "7"
      ]
     },
     "execution_count": 16,
     "metadata": {},
     "output_type": "execute_result"
    }
   ],
   "source": [
    "a=0b111\n",
    "a"
   ]
  },
  {
   "cell_type": "markdown",
   "id": "11572ab0",
   "metadata": {},
   "source": [
    "$Octal$"
   ]
  },
  {
   "cell_type": "markdown",
   "id": "f7a88627",
   "metadata": {},
   "source": [
    "* OCTA MEANS 8\n",
    "* SO THE BASE IS 8\n",
    "* 0,1,2,3,4,5,6,7,8,9\n",
    "* IN THIS WE WILL USE ONLY 8 DIGITS  0,1,2,3,4,5,6,7\n",
    "* REPRESENTS AS 0O (COMBINSTIONS OF 0 TO 7)\n",
    "* EX:- 0O123 (OR) 0o123"
   ]
  },
  {
   "cell_type": "code",
   "execution_count": 18,
   "id": "f8d32a05",
   "metadata": {},
   "outputs": [
    {
     "data": {
      "text/plain": [
       "83"
      ]
     },
     "execution_count": 18,
     "metadata": {},
     "output_type": "execute_result"
    }
   ],
   "source": [
    "b=0o123\n",
    "b"
   ]
  },
  {
   "cell_type": "markdown",
   "id": "9ab180dd",
   "metadata": {},
   "source": [
    "$Hexa$"
   ]
  },
  {
   "cell_type": "markdown",
   "id": "af1c5845",
   "metadata": {},
   "source": [
    "* HEXA MEANS 16\n",
    "* SO THE BASE IS ALSO 16 \n",
    "* THEN 0,1,2,3,4,5,6,7,8,9,A,B,C,D,E,F\n",
    "* HERE WE WILL 16 DIGITS (FROM 0 TO 9 AND FROM A TO F)\n",
    "* REPRESENTS AS 0X (WITH COMBINATION OF 0 TO 9 AND A TO F)\n",
    "* EX:- 0Xabc     or   0x5ps"
   ]
  },
  {
   "cell_type": "code",
   "execution_count": 20,
   "id": "b1f64a33",
   "metadata": {},
   "outputs": [
    {
     "data": {
      "text/plain": [
       "2748"
      ]
     },
     "execution_count": 20,
     "metadata": {},
     "output_type": "execute_result"
    }
   ],
   "source": [
    "c=0xabc\n",
    "c"
   ]
  },
  {
   "cell_type": "markdown",
   "id": "eccfd06d",
   "metadata": {},
   "source": [
    "- these are all about integers ands their types"
   ]
  },
  {
   "cell_type": "markdown",
   "id": "a2466e9a",
   "metadata": {},
   "source": [
    "### Float"
   ]
  },
  {
   "cell_type": "markdown",
   "id": "af08f1b1",
   "metadata": {},
   "source": [
    "- float is a function in the Python programming language that converts values into floating point numbers\n",
    "- floating point numbers are decimal values or fractional numbers"
   ]
  },
  {
   "cell_type": "code",
   "execution_count": 8,
   "id": "1c73b4da",
   "metadata": {},
   "outputs": [
    {
     "data": {
      "text/plain": [
       "float"
      ]
     },
     "execution_count": 8,
     "metadata": {},
     "output_type": "execute_result"
    }
   ],
   "source": [
    "a=12.593\n",
    "type(a)"
   ]
  },
  {
   "cell_type": "markdown",
   "id": "0d175b97",
   "metadata": {},
   "source": [
    "##### e repesentation:-\n",
    "* 10*e3 = # 10(1000)=10000.0\n",
    "* 10e-3 = # 10/1000=0.01"
   ]
  },
  {
   "cell_type": "markdown",
   "id": "c4205b78",
   "metadata": {},
   "source": [
    "### String"
   ]
  },
  {
   "cell_type": "markdown",
   "id": "e1b57280",
   "metadata": {},
   "source": [
    "- the data which represented or written in quotes\n",
    "- there are three types of quotes:\n",
    "    * single quotes (' ')\n",
    "    * double quotes (\" \")\n",
    "    * triple quotes (\"\"\"  \"\"\").these are also called as 'doc string'."
   ]
  },
  {
   "cell_type": "code",
   "execution_count": 9,
   "id": "a174fd95",
   "metadata": {},
   "outputs": [
    {
     "data": {
      "text/plain": [
       "'python'"
      ]
     },
     "execution_count": 9,
     "metadata": {},
     "output_type": "execute_result"
    }
   ],
   "source": [
    "str1='python'    \n",
    "str1"
   ]
  },
  {
   "cell_type": "markdown",
   "id": "bd5da131",
   "metadata": {},
   "source": [
    "### Boolean"
   ]
  },
  {
   "cell_type": "markdown",
   "id": "5e6e9e81",
   "metadata": {},
   "source": [
    "* WHENEVER IF YOU SAY SOMETHING TO THE SYSTEM/PROGRAM ,THEN ITS REPLY IS \"TRUE OR FLASE\".\n",
    "* THIS TRUE OR FLASE TYPE OF QUESTIONS AND ANESWERS ARE KNOW AS BOOLEAN.\n",
    "* IT IS REPRESESNTED AS \"bool\".\n",
    "* true=1=on\n",
    "* false=0=off"
   ]
  },
  {
   "cell_type": "code",
   "execution_count": 21,
   "id": "9f7d43ed",
   "metadata": {},
   "outputs": [
    {
     "data": {
      "text/plain": [
       "bool"
      ]
     },
     "execution_count": 21,
     "metadata": {},
     "output_type": "execute_result"
    }
   ],
   "source": [
    "val=True\n",
    "type(val)"
   ]
  },
  {
   "cell_type": "markdown",
   "id": "1c09842c",
   "metadata": {},
   "source": [
    "### complex conjugation"
   ]
  },
  {
   "cell_type": "markdown",
   "id": "6c08f116",
   "metadata": {},
   "source": [
    "- an equation of real value and an imaginary value is called complex conjugation\n",
    "- it is in the form of a+jb"
   ]
  },
  {
   "cell_type": "code",
   "execution_count": 24,
   "id": "7cd9faa1",
   "metadata": {},
   "outputs": [
    {
     "data": {
      "text/plain": [
       "complex"
      ]
     },
     "execution_count": 24,
     "metadata": {},
     "output_type": "execute_result"
    }
   ],
   "source": [
    "a=3+5j\n",
    "type(a)"
   ]
  },
  {
   "cell_type": "code",
   "execution_count": 26,
   "id": "0eff2de6",
   "metadata": {},
   "outputs": [
    {
     "data": {
      "text/plain": [
       "0j"
      ]
     },
     "execution_count": 26,
     "metadata": {},
     "output_type": "execute_result"
    }
   ],
   "source": [
    "complex()  # empty braces took default values"
   ]
  },
  {
   "cell_type": "markdown",
   "id": "f5288dd4",
   "metadata": {},
   "source": [
    "### Type casting"
   ]
  },
  {
   "cell_type": "markdown",
   "id": "5a9cbfb4",
   "metadata": {},
   "source": [
    "- CHANGE ONE DATA TYPE TO ANOTHER DATA TYPES\n",
    "- INT CONVERTS INTO FLOAT,STRING, BOOLEAN, COMPLEX CONJUGATE. SIMILARY REMAINING INTO REMAINING TYPES"
   ]
  },
  {
   "cell_type": "markdown",
   "id": "80159732",
   "metadata": {},
   "source": [
    "$Integers----->Data$ $types$"
   ]
  },
  {
   "cell_type": "markdown",
   "id": "334ca6d3",
   "metadata": {},
   "source": [
    "- case(i):- int to float"
   ]
  },
  {
   "cell_type": "code",
   "execution_count": 41,
   "id": "3218cb96",
   "metadata": {},
   "outputs": [
    {
     "data": {
      "text/plain": [
       "100.0"
      ]
     },
     "execution_count": 41,
     "metadata": {},
     "output_type": "execute_result"
    }
   ],
   "source": [
    "num=100     # integer\n",
    "float_num=float(num)\n",
    "float_num"
   ]
  },
  {
   "cell_type": "code",
   "execution_count": 29,
   "id": "d1c161f0",
   "metadata": {},
   "outputs": [
    {
     "data": {
      "text/plain": [
       "float"
      ]
     },
     "execution_count": 29,
     "metadata": {},
     "output_type": "execute_result"
    }
   ],
   "source": [
    "type(float_num)"
   ]
  },
  {
   "cell_type": "markdown",
   "id": "050e4b0b",
   "metadata": {},
   "source": [
    "- case(ii):-int to string"
   ]
  },
  {
   "cell_type": "code",
   "execution_count": 40,
   "id": "db2948ea",
   "metadata": {},
   "outputs": [
    {
     "data": {
      "text/plain": [
       "'100'"
      ]
     },
     "execution_count": 40,
     "metadata": {},
     "output_type": "execute_result"
    }
   ],
   "source": [
    "num=100\n",
    "string_num=str(num)\n",
    "string_num"
   ]
  },
  {
   "cell_type": "code",
   "execution_count": 32,
   "id": "3f118cee",
   "metadata": {},
   "outputs": [
    {
     "data": {
      "text/plain": [
       "str"
      ]
     },
     "execution_count": 32,
     "metadata": {},
     "output_type": "execute_result"
    }
   ],
   "source": [
    "type(string_num)"
   ]
  },
  {
   "cell_type": "markdown",
   "id": "341411db",
   "metadata": {},
   "source": [
    "- case(iii):- int to boolean"
   ]
  },
  {
   "cell_type": "code",
   "execution_count": 33,
   "id": "bf691453",
   "metadata": {},
   "outputs": [
    {
     "name": "stdout",
     "output_type": "stream",
     "text": [
      "True\n"
     ]
    }
   ],
   "source": [
    "num=100\n",
    "boolean_num=bool(num)\n",
    "print(boolean_num)"
   ]
  },
  {
   "cell_type": "code",
   "execution_count": 34,
   "id": "c42e6836",
   "metadata": {},
   "outputs": [
    {
     "data": {
      "text/plain": [
       "bool"
      ]
     },
     "execution_count": 34,
     "metadata": {},
     "output_type": "execute_result"
    }
   ],
   "source": [
    "type(boolean_num)"
   ]
  },
  {
   "cell_type": "markdown",
   "id": "4bf4674f",
   "metadata": {},
   "source": [
    "- other than zero every thing in boolean is true\n",
    "- zero gives false"
   ]
  },
  {
   "cell_type": "code",
   "execution_count": 36,
   "id": "e907d549",
   "metadata": {},
   "outputs": [
    {
     "data": {
      "text/plain": [
       "False"
      ]
     },
     "execution_count": 36,
     "metadata": {},
     "output_type": "execute_result"
    }
   ],
   "source": [
    "bool(0)"
   ]
  },
  {
   "cell_type": "markdown",
   "id": "25f523d1",
   "metadata": {},
   "source": [
    "- case(iv):- int to complex"
   ]
  },
  {
   "cell_type": "code",
   "execution_count": 37,
   "id": "57baa15d",
   "metadata": {},
   "outputs": [
    {
     "data": {
      "text/plain": [
       "(100+0j)"
      ]
     },
     "execution_count": 37,
     "metadata": {},
     "output_type": "execute_result"
    }
   ],
   "source": [
    "num=100\n",
    "complex_num=complex(num)\n",
    "complex_num"
   ]
  },
  {
   "cell_type": "code",
   "execution_count": 38,
   "id": "5f365a73",
   "metadata": {},
   "outputs": [
    {
     "data": {
      "text/plain": [
       "complex"
      ]
     },
     "execution_count": 38,
     "metadata": {},
     "output_type": "execute_result"
    }
   ],
   "source": [
    "type(complex_num)"
   ]
  },
  {
   "cell_type": "markdown",
   "id": "49d367f3",
   "metadata": {},
   "source": [
    "- similarly we can covert all data types into other data types"
   ]
  },
  {
   "cell_type": "markdown",
   "id": "1234ee32",
   "metadata": {},
   "source": [
    "- in string to other type data types conversion,\n",
    "   * the int,float and complex are shown error.because of they are maths\n",
    "   * empty string in boolean gives false "
   ]
  },
  {
   "cell_type": "markdown",
   "id": "5a77eb23",
   "metadata": {},
   "source": [
    "- in complex to other data types conversion,\n",
    "   * int and float both are errors"
   ]
  },
  {
   "cell_type": "markdown",
   "id": "9469d4ce",
   "metadata": {},
   "source": [
    "### Joining of multiple statements"
   ]
  },
  {
   "cell_type": "markdown",
   "id": "bbda3220",
   "metadata": {},
   "source": [
    "$end-operator$"
   ]
  },
  {
   "cell_type": "markdown",
   "id": "ae8a662c",
   "metadata": {},
   "source": [
    "- when ever we have mutiple statements, we want to connect/ join all the statement we use an operator which is called end operator"
   ]
  },
  {
   "cell_type": "code",
   "execution_count": 3,
   "id": "7e4c5586",
   "metadata": {},
   "outputs": [
    {
     "name": "stdout",
     "output_type": "stream",
     "text": [
      "hai\n",
      "how are you\n"
     ]
    }
   ],
   "source": [
    "print(\"hai\")\n",
    "print(\"how are you\")"
   ]
  },
  {
   "cell_type": "code",
   "execution_count": 4,
   "id": "bc711047",
   "metadata": {},
   "outputs": [
    {
     "name": "stdout",
     "output_type": "stream",
     "text": [
      "hai\n",
      "how are you\n"
     ]
    },
    {
     "data": {
      "text/plain": [
       "(None, None)"
      ]
     },
     "execution_count": 4,
     "metadata": {},
     "output_type": "execute_result"
    }
   ],
   "source": [
    "print(\"hai\"),print(\"how are you\")"
   ]
  },
  {
   "cell_type": "code",
   "execution_count": 5,
   "id": "34d9b185",
   "metadata": {},
   "outputs": [
    {
     "name": "stdout",
     "output_type": "stream",
     "text": [
      "hai how are you\n"
     ]
    }
   ],
   "source": [
    "print(\"hai\",end=\" \")\n",
    "print(\"how are you\")"
   ]
  },
  {
   "cell_type": "markdown",
   "id": "8042530d",
   "metadata": {},
   "source": [
    "$Input$"
   ]
  },
  {
   "cell_type": "markdown",
   "id": "db2754e4",
   "metadata": {},
   "source": [
    "- Input is a key which is ued to print some statements\n",
    "- input is used to print both numeric and alphabetics\n",
    "- whenever we use input key it displace rectangular box in which we have to type which data we wants."
   ]
  },
  {
   "cell_type": "code",
   "execution_count": 7,
   "id": "16799101",
   "metadata": {},
   "outputs": [
    {
     "name": "stdout",
     "output_type": "stream",
     "text": [
      "what is A for:apple\n",
      "apple\n",
      "what is B for:ball\n",
      "ball\n"
     ]
    }
   ],
   "source": [
    "print(input(\"what is A for:\"))\n",
    "print(input(\"what is B for:\"))"
   ]
  },
  {
   "cell_type": "markdown",
   "id": "421f83d7",
   "metadata": {},
   "source": [
    "$Eval$"
   ]
  },
  {
   "cell_type": "markdown",
   "id": "2fa4f685",
   "metadata": {},
   "source": [
    "- eval is a key which is used to evaluate the mathametical operations"
   ]
  },
  {
   "cell_type": "code",
   "execution_count": null,
   "id": "482b00e2",
   "metadata": {},
   "outputs": [],
   "source": [
    "\n"
   ]
  }
 ],
 "metadata": {
  "kernelspec": {
   "display_name": "Python 3 (ipykernel)",
   "language": "python",
   "name": "python3"
  },
  "language_info": {
   "codemirror_mode": {
    "name": "ipython",
    "version": 3
   },
   "file_extension": ".py",
   "mimetype": "text/x-python",
   "name": "python",
   "nbconvert_exporter": "python",
   "pygments_lexer": "ipython3",
   "version": "3.11.5"
  }
 },
 "nbformat": 4,
 "nbformat_minor": 5
}
