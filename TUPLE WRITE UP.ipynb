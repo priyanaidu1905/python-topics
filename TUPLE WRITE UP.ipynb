{
 "cells": [
  {
   "cell_type": "markdown",
   "id": "3ea248af",
   "metadata": {},
   "source": [
    "# -------------------------TUPLE------------------------------"
   ]
  },
  {
   "cell_type": "markdown",
   "id": "c27f9d39",
   "metadata": {},
   "source": [
    "##### HOW TO READ TUPLE:"
   ]
  },
  {
   "cell_type": "markdown",
   "id": "6683952c",
   "metadata": {},
   "source": [
    "- the data which represented or written in  parentheses is called as tuple.\n",
    "- it is as same as list"
   ]
  },
  {
   "cell_type": "code",
   "execution_count": 31,
   "id": "f1395960",
   "metadata": {},
   "outputs": [
    {
     "data": {
      "text/plain": [
       "(1, 2, 3, 4, 5)"
      ]
     },
     "execution_count": 31,
     "metadata": {},
     "output_type": "execute_result"
    }
   ],
   "source": [
    "t1=(1,2,3,4,5)\n",
    "t1"
   ]
  },
  {
   "cell_type": "code",
   "execution_count": 32,
   "id": "889702fd",
   "metadata": {},
   "outputs": [
    {
     "data": {
      "text/plain": [
       "('A', 'B', 'C', 'D', 'E')"
      ]
     },
     "execution_count": 32,
     "metadata": {},
     "output_type": "execute_result"
    }
   ],
   "source": [
    "t2=('A','B','C','D','E')\n",
    "t2"
   ]
  },
  {
   "cell_type": "code",
   "execution_count": 33,
   "id": "3de48d48",
   "metadata": {},
   "outputs": [
    {
     "data": {
      "text/plain": [
       "(1, 2, 3, 'A', 'B', 'C')"
      ]
     },
     "execution_count": 33,
     "metadata": {},
     "output_type": "execute_result"
    }
   ],
   "source": [
    "t3=(1,2,3,'A','B','C')\n",
    "t3"
   ]
  },
  {
   "cell_type": "markdown",
   "id": "e2a7ef9e",
   "metadata": {},
   "source": [
    "###### In tuple elements, heterogenous data types are allowed."
   ]
  },
  {
   "cell_type": "code",
   "execution_count": 34,
   "id": "aec5eed2",
   "metadata": {},
   "outputs": [
    {
     "data": {
      "text/plain": [
       "(1, 'apple', 10.5, (1+3j), True)"
      ]
     },
     "execution_count": 34,
     "metadata": {},
     "output_type": "execute_result"
    }
   ],
   "source": [
    "t4=(1,'apple',10.5,(1+3j),True)\n",
    "t4"
   ]
  },
  {
   "cell_type": "markdown",
   "id": "6c863cef",
   "metadata": {},
   "source": [
    "###### In tuple elements,duplicates are also allowed."
   ]
  },
  {
   "cell_type": "code",
   "execution_count": 35,
   "id": "e3387954",
   "metadata": {},
   "outputs": [
    {
     "data": {
      "text/plain": [
       "(10, 100, 10)"
      ]
     },
     "execution_count": 35,
     "metadata": {},
     "output_type": "execute_result"
    }
   ],
   "source": [
    "t5=(10,100,10)\n",
    "t5"
   ]
  },
  {
   "cell_type": "markdown",
   "id": "b9527840",
   "metadata": {},
   "source": [
    "###### In tuple elements, tuple in tuple also works."
   ]
  },
  {
   "cell_type": "code",
   "execution_count": 36,
   "id": "a628d11f",
   "metadata": {},
   "outputs": [
    {
     "data": {
      "text/plain": [
       "(1, 2, 3, 4, 5)"
      ]
     },
     "execution_count": 36,
     "metadata": {},
     "output_type": "execute_result"
    }
   ],
   "source": [
    "t6=((1,2,3,4,5))\n",
    "t6"
   ]
  },
  {
   "cell_type": "markdown",
   "id": "8fcf34a4",
   "metadata": {},
   "source": [
    "$type$"
   ]
  },
  {
   "cell_type": "code",
   "execution_count": 37,
   "id": "5575401b",
   "metadata": {},
   "outputs": [
    {
     "data": {
      "text/plain": [
       "tuple"
      ]
     },
     "execution_count": 37,
     "metadata": {},
     "output_type": "execute_result"
    }
   ],
   "source": [
    "t1=(1,'apple',10.5,(1+3j),True) \n",
    "type(t1)"
   ]
  },
  {
   "cell_type": "markdown",
   "id": "67038990",
   "metadata": {},
   "source": [
    "$length$"
   ]
  },
  {
   "cell_type": "code",
   "execution_count": 38,
   "id": "d91ba6d8",
   "metadata": {},
   "outputs": [
    {
     "data": {
      "text/plain": [
       "5"
      ]
     },
     "execution_count": 38,
     "metadata": {},
     "output_type": "execute_result"
    }
   ],
   "source": [
    "t1=(1,'apple',10.5,(1+3j),True)  #it describes the length of the tuple\n",
    "len(t1)"
   ]
  },
  {
   "cell_type": "markdown",
   "id": "4eca87f4",
   "metadata": {},
   "source": [
    "$maximum$"
   ]
  },
  {
   "cell_type": "code",
   "execution_count": 39,
   "id": "190cc1eb",
   "metadata": {},
   "outputs": [
    {
     "ename": "TypeError",
     "evalue": "'>' not supported between instances of 'str' and 'int'",
     "output_type": "error",
     "traceback": [
      "\u001b[1;31m---------------------------------------------------------------------------\u001b[0m",
      "\u001b[1;31mTypeError\u001b[0m                                 Traceback (most recent call last)",
      "Cell \u001b[1;32mIn[39], line 2\u001b[0m\n\u001b[0;32m      1\u001b[0m t1\u001b[38;5;241m=\u001b[39m(\u001b[38;5;241m1\u001b[39m,\u001b[38;5;124m'\u001b[39m\u001b[38;5;124mapple\u001b[39m\u001b[38;5;124m'\u001b[39m,\u001b[38;5;241m10.5\u001b[39m,(\u001b[38;5;241m1\u001b[39m\u001b[38;5;241m+\u001b[39m\u001b[38;5;241m3\u001b[39mj),\u001b[38;5;28;01mTrue\u001b[39;00m)  \n\u001b[1;32m----> 2\u001b[0m \u001b[38;5;28mmax\u001b[39m(t1)\n",
      "\u001b[1;31mTypeError\u001b[0m: '>' not supported between instances of 'str' and 'int'"
     ]
    }
   ],
   "source": [
    "t1=(1,'apple',10.5,(1+3j),True)  \n",
    "max(t1)"
   ]
  },
  {
   "cell_type": "code",
   "execution_count": 40,
   "id": "c2f9ccc4",
   "metadata": {},
   "outputs": [
    {
     "data": {
      "text/plain": [
       "9"
      ]
     },
     "execution_count": 40,
     "metadata": {},
     "output_type": "execute_result"
    }
   ],
   "source": [
    "t1=(1,2,3,4,5,6,7,8,9)         # it describes the maximum value of the given tuple\n",
    "max(t1)"
   ]
  },
  {
   "cell_type": "markdown",
   "id": "d9645e39",
   "metadata": {},
   "source": [
    "$minimum$"
   ]
  },
  {
   "cell_type": "code",
   "execution_count": 41,
   "id": "b0f05041",
   "metadata": {},
   "outputs": [
    {
     "data": {
      "text/plain": [
       "1"
      ]
     },
     "execution_count": 41,
     "metadata": {},
     "output_type": "execute_result"
    }
   ],
   "source": [
    "t1=(1,2,3,4,5,6,7,8,9)         # it describes the manimum value of the given tuple\n",
    "min(t1)"
   ]
  },
  {
   "cell_type": "markdown",
   "id": "cfefabd0",
   "metadata": {},
   "source": [
    "$ sum $"
   ]
  },
  {
   "cell_type": "code",
   "execution_count": 44,
   "id": "2d46fd73",
   "metadata": {},
   "outputs": [
    {
     "data": {
      "text/plain": [
       "45"
      ]
     },
     "execution_count": 44,
     "metadata": {},
     "output_type": "execute_result"
    }
   ],
   "source": [
    "t1=(1,2,3,4,5,6,7,8,9)\n",
    "sum(t1)"
   ]
  },
  {
   "cell_type": "code",
   "execution_count": 45,
   "id": "67406f91",
   "metadata": {},
   "outputs": [
    {
     "ename": "TypeError",
     "evalue": "unsupported operand type(s) for +: 'int' and 'str'",
     "output_type": "error",
     "traceback": [
      "\u001b[1;31m---------------------------------------------------------------------------\u001b[0m",
      "\u001b[1;31mTypeError\u001b[0m                                 Traceback (most recent call last)",
      "Cell \u001b[1;32mIn[45], line 2\u001b[0m\n\u001b[0;32m      1\u001b[0m t2\u001b[38;5;241m=\u001b[39m(\u001b[38;5;124m'\u001b[39m\u001b[38;5;124ma\u001b[39m\u001b[38;5;124m'\u001b[39m,\u001b[38;5;124m'\u001b[39m\u001b[38;5;124mb\u001b[39m\u001b[38;5;124m'\u001b[39m,\u001b[38;5;124m'\u001b[39m\u001b[38;5;124mc\u001b[39m\u001b[38;5;124m'\u001b[39m,\u001b[38;5;124m'\u001b[39m\u001b[38;5;124md\u001b[39m\u001b[38;5;124m'\u001b[39m,\u001b[38;5;124m'\u001b[39m\u001b[38;5;124me\u001b[39m\u001b[38;5;124m'\u001b[39m)\n\u001b[1;32m----> 2\u001b[0m \u001b[38;5;28msum\u001b[39m(t2)\n",
      "\u001b[1;31mTypeError\u001b[0m: unsupported operand type(s) for +: 'int' and 'str'"
     ]
    }
   ],
   "source": [
    "t2=('a','b','c','d','e')\n",
    "sum(t2)"
   ]
  },
  {
   "cell_type": "code",
   "execution_count": 46,
   "id": "97f544e3",
   "metadata": {},
   "outputs": [
    {
     "ename": "TypeError",
     "evalue": "unsupported operand type(s) for +: 'int' and 'str'",
     "output_type": "error",
     "traceback": [
      "\u001b[1;31m---------------------------------------------------------------------------\u001b[0m",
      "\u001b[1;31mTypeError\u001b[0m                                 Traceback (most recent call last)",
      "Cell \u001b[1;32mIn[46], line 2\u001b[0m\n\u001b[0;32m      1\u001b[0m l3\u001b[38;5;241m=\u001b[39m[\u001b[38;5;241m1\u001b[39m,\u001b[38;5;241m2\u001b[39m,\u001b[38;5;241m3\u001b[39m,\u001b[38;5;241m4\u001b[39m,\u001b[38;5;241m5\u001b[39m,\u001b[38;5;124m'\u001b[39m\u001b[38;5;124ma\u001b[39m\u001b[38;5;124m'\u001b[39m,\u001b[38;5;124m'\u001b[39m\u001b[38;5;124mb\u001b[39m\u001b[38;5;124m'\u001b[39m,\u001b[38;5;124m'\u001b[39m\u001b[38;5;124mc\u001b[39m\u001b[38;5;124m'\u001b[39m]\n\u001b[1;32m----> 2\u001b[0m \u001b[38;5;28msum\u001b[39m(l3)\n",
      "\u001b[1;31mTypeError\u001b[0m: unsupported operand type(s) for +: 'int' and 'str'"
     ]
    }
   ],
   "source": [
    "l3=[1,2,3,4,5,'a','b','c']\n",
    "sum(l3)"
   ]
  },
  {
   "cell_type": "markdown",
   "id": "0d47edb0",
   "metadata": {},
   "source": [
    "$Concatenation$"
   ]
  },
  {
   "cell_type": "markdown",
   "id": "3cadbf3b",
   "metadata": {},
   "source": [
    "- concatenation means addition of two tuples"
   ]
  },
  {
   "cell_type": "code",
   "execution_count": 47,
   "id": "951e81ba",
   "metadata": {},
   "outputs": [
    {
     "data": {
      "text/plain": [
       "('a', 'b', 'c', 'd', 5, 6, 7, 8, 9)"
      ]
     },
     "execution_count": 47,
     "metadata": {},
     "output_type": "execute_result"
    }
   ],
   "source": [
    "t1=('a','b','c','d')\n",
    "t2=(5,6,7,8,9)\n",
    "t1+t2"
   ]
  },
  {
   "cell_type": "code",
   "execution_count": 48,
   "id": "06549dd4",
   "metadata": {},
   "outputs": [
    {
     "data": {
      "text/plain": [
       "(5, 6, 7, 8, 9, 'a', 'b', 'c', 'd')"
      ]
     },
     "execution_count": 48,
     "metadata": {},
     "output_type": "execute_result"
    }
   ],
   "source": [
    "t2+t1"
   ]
  },
  {
   "cell_type": "markdown",
   "id": "9d4c02ce",
   "metadata": {},
   "source": [
    "$Multiplication$"
   ]
  },
  {
   "cell_type": "markdown",
   "id": "0e1a5303",
   "metadata": {},
   "source": [
    "- we can't multiply sequence by non-int of type string"
   ]
  },
  {
   "cell_type": "code",
   "execution_count": 49,
   "id": "2a128c88",
   "metadata": {},
   "outputs": [
    {
     "ename": "TypeError",
     "evalue": "can't multiply sequence by non-int of type 'tuple'",
     "output_type": "error",
     "traceback": [
      "\u001b[1;31m---------------------------------------------------------------------------\u001b[0m",
      "\u001b[1;31mTypeError\u001b[0m                                 Traceback (most recent call last)",
      "Cell \u001b[1;32mIn[49], line 3\u001b[0m\n\u001b[0;32m      1\u001b[0m t1\u001b[38;5;241m=\u001b[39m(\u001b[38;5;241m1\u001b[39m,\u001b[38;5;241m2\u001b[39m,\u001b[38;5;241m3\u001b[39m,\u001b[38;5;241m4\u001b[39m,\u001b[38;5;241m5\u001b[39m)\n\u001b[0;32m      2\u001b[0m t2\u001b[38;5;241m=\u001b[39m(\u001b[38;5;124m'\u001b[39m\u001b[38;5;124ma\u001b[39m\u001b[38;5;124m'\u001b[39m,\u001b[38;5;124m'\u001b[39m\u001b[38;5;124mb\u001b[39m\u001b[38;5;124m'\u001b[39m,\u001b[38;5;124m'\u001b[39m\u001b[38;5;124mc\u001b[39m\u001b[38;5;124m'\u001b[39m,\u001b[38;5;124m'\u001b[39m\u001b[38;5;124md\u001b[39m\u001b[38;5;124m'\u001b[39m,\u001b[38;5;124m'\u001b[39m\u001b[38;5;124me\u001b[39m\u001b[38;5;124m'\u001b[39m)\n\u001b[1;32m----> 3\u001b[0m t1\u001b[38;5;241m*\u001b[39mt2\n",
      "\u001b[1;31mTypeError\u001b[0m: can't multiply sequence by non-int of type 'tuple'"
     ]
    }
   ],
   "source": [
    "t1=(1,2,3,4,5)\n",
    "t2=('a','b','c','d','e')\n",
    "t1*t2"
   ]
  },
  {
   "cell_type": "code",
   "execution_count": 50,
   "id": "4a86324e",
   "metadata": {},
   "outputs": [
    {
     "data": {
      "text/plain": [
       "('a', 'b', 'c', 'a', 'b', 'c', 'a', 'b', 'c')"
      ]
     },
     "execution_count": 50,
     "metadata": {},
     "output_type": "execute_result"
    }
   ],
   "source": [
    "t1=('a','b','c')\n",
    "t1*3"
   ]
  },
  {
   "cell_type": "markdown",
   "id": "83e028ce",
   "metadata": {},
   "source": [
    "$subtraction$"
   ]
  },
  {
   "cell_type": "markdown",
   "id": "50328da5",
   "metadata": {},
   "source": [
    "- we cant subtract two tuples it gives error"
   ]
  },
  {
   "cell_type": "code",
   "execution_count": 51,
   "id": "e2243442",
   "metadata": {},
   "outputs": [
    {
     "ename": "TypeError",
     "evalue": "unsupported operand type(s) for -: 'tuple' and 'tuple'",
     "output_type": "error",
     "traceback": [
      "\u001b[1;31m---------------------------------------------------------------------------\u001b[0m",
      "\u001b[1;31mTypeError\u001b[0m                                 Traceback (most recent call last)",
      "Cell \u001b[1;32mIn[51], line 3\u001b[0m\n\u001b[0;32m      1\u001b[0m t1\u001b[38;5;241m=\u001b[39m(\u001b[38;5;241m1\u001b[39m,\u001b[38;5;241m2\u001b[39m,\u001b[38;5;241m3\u001b[39m,\u001b[38;5;241m4\u001b[39m)\n\u001b[0;32m      2\u001b[0m t2\u001b[38;5;241m=\u001b[39m(\u001b[38;5;241m1\u001b[39m,\u001b[38;5;241m5\u001b[39m,\u001b[38;5;241m3\u001b[39m,\u001b[38;5;241m6\u001b[39m)\n\u001b[1;32m----> 3\u001b[0m t1\u001b[38;5;241m-\u001b[39mt2\n",
      "\u001b[1;31mTypeError\u001b[0m: unsupported operand type(s) for -: 'tuple' and 'tuple'"
     ]
    }
   ],
   "source": [
    "t1=(1,2,3,4)\n",
    "t2=(1,5,3,6)\n",
    "t1-t2"
   ]
  },
  {
   "cell_type": "markdown",
   "id": "3e28c599",
   "metadata": {},
   "source": [
    "$division$"
   ]
  },
  {
   "cell_type": "markdown",
   "id": "ecb2719b",
   "metadata": {},
   "source": [
    "-similarly we cant divide two lists.it is also gives an error as like substraction."
   ]
  },
  {
   "cell_type": "code",
   "execution_count": 52,
   "id": "459d3d22",
   "metadata": {},
   "outputs": [
    {
     "ename": "TypeError",
     "evalue": "unsupported operand type(s) for /: 'list' and 'list'",
     "output_type": "error",
     "traceback": [
      "\u001b[1;31m---------------------------------------------------------------------------\u001b[0m",
      "\u001b[1;31mTypeError\u001b[0m                                 Traceback (most recent call last)",
      "Cell \u001b[1;32mIn[52], line 3\u001b[0m\n\u001b[0;32m      1\u001b[0m l1\u001b[38;5;241m=\u001b[39m[\u001b[38;5;241m1\u001b[39m,\u001b[38;5;241m2\u001b[39m,\u001b[38;5;241m3\u001b[39m,\u001b[38;5;241m4\u001b[39m,\u001b[38;5;241m5\u001b[39m]\n\u001b[0;32m      2\u001b[0m l2\u001b[38;5;241m=\u001b[39m[\u001b[38;5;241m1\u001b[39m,\u001b[38;5;241m5\u001b[39m,\u001b[38;5;241m3\u001b[39m,\u001b[38;5;241m6\u001b[39m,\u001b[38;5;241m7\u001b[39m]\n\u001b[1;32m----> 3\u001b[0m l1\u001b[38;5;241m/\u001b[39ml2\n",
      "\u001b[1;31mTypeError\u001b[0m: unsupported operand type(s) for /: 'list' and 'list'"
     ]
    }
   ],
   "source": [
    "l1=[1,2,3,4,5]\n",
    "l2=[1,5,3,6,7]\n",
    "l1/l2"
   ]
  },
  {
   "cell_type": "markdown",
   "id": "c3a48c30",
   "metadata": {},
   "source": [
    "###### in opertor (for loop)"
   ]
  },
  {
   "cell_type": "code",
   "execution_count": 53,
   "id": "d759566c",
   "metadata": {},
   "outputs": [
    {
     "name": "stdout",
     "output_type": "stream",
     "text": [
      "1\n",
      "2\n",
      "3\n",
      "4\n",
      "5\n"
     ]
    }
   ],
   "source": [
    "list1=[1,2,3,4,5]\n",
    "for i in list1:\n",
    "    print(i)"
   ]
  },
  {
   "cell_type": "code",
   "execution_count": 54,
   "id": "3d301a2e",
   "metadata": {},
   "outputs": [
    {
     "name": "stdout",
     "output_type": "stream",
     "text": [
      "love\n",
      "like\n",
      "life\n"
     ]
    }
   ],
   "source": [
    "list1=[\"love\",\"like\",\"life\"]\n",
    "for i in list1:\n",
    "    print(i)"
   ]
  },
  {
   "cell_type": "markdown",
   "id": "3aac746c",
   "metadata": {},
   "source": [
    "$Index$"
   ]
  },
  {
   "cell_type": "markdown",
   "id": "7501e11c",
   "metadata": {},
   "source": [
    "- Index is used to find the sequence number of the element\n",
    "- index is representeed in[] \n",
    "- it is a numeric value"
   ]
  },
  {
   "cell_type": "code",
   "execution_count": 55,
   "id": "fc2de1ff",
   "metadata": {},
   "outputs": [
    {
     "data": {
      "text/plain": [
       "'priya'"
      ]
     },
     "execution_count": 55,
     "metadata": {},
     "output_type": "execute_result"
    }
   ],
   "source": [
    "tuple1=(1,2,3,'a','b','c','priya')\n",
    "tuple1[-1]"
   ]
  },
  {
   "cell_type": "markdown",
   "id": "985e9e7e",
   "metadata": {},
   "source": [
    "- here,in this tuple[-1]=====> [a] indicates index of the last element in tuple"
   ]
  },
  {
   "cell_type": "code",
   "execution_count": 56,
   "id": "17a9c0a2",
   "metadata": {},
   "outputs": [
    {
     "data": {
      "text/plain": [
       "(1, 'a', 'c')"
      ]
     },
     "execution_count": 56,
     "metadata": {},
     "output_type": "execute_result"
    }
   ],
   "source": [
    "tuple1[0],tuple1[3],tuple1[5]"
   ]
  },
  {
   "cell_type": "code",
   "execution_count": 57,
   "id": "c2917178",
   "metadata": {},
   "outputs": [
    {
     "data": {
      "text/plain": [
       "'priya'"
      ]
     },
     "execution_count": 57,
     "metadata": {},
     "output_type": "execute_result"
    }
   ],
   "source": [
    "tuple2=(1,2,3,(\"priya\",\"ammu\"))\n",
    "# find index of priya?\n",
    "tuple2[3][0] #===========> index of priya"
   ]
  },
  {
   "cell_type": "markdown",
   "id": "6fc976a4",
   "metadata": {},
   "source": [
    "$mutable$-$immutable$ $condition$"
   ]
  },
  {
   "cell_type": "markdown",
   "id": "38602073",
   "metadata": {},
   "source": [
    "- mutable means we can change; immutable means we cant change.\n",
    "- tuples are immutable.`"
   ]
  },
  {
   "cell_type": "code",
   "execution_count": 58,
   "id": "a3ce9a84",
   "metadata": {},
   "outputs": [
    {
     "ename": "TypeError",
     "evalue": "'tuple' object does not support item assignment",
     "output_type": "error",
     "traceback": [
      "\u001b[1;31m---------------------------------------------------------------------------\u001b[0m",
      "\u001b[1;31mTypeError\u001b[0m                                 Traceback (most recent call last)",
      "Cell \u001b[1;32mIn[58], line 2\u001b[0m\n\u001b[0;32m      1\u001b[0m t1\u001b[38;5;241m=\u001b[39m(\u001b[38;5;124m\"\u001b[39m\u001b[38;5;124ma\u001b[39m\u001b[38;5;124m\"\u001b[39m,\u001b[38;5;124m\"\u001b[39m\u001b[38;5;124mb\u001b[39m\u001b[38;5;124m\"\u001b[39m,\u001b[38;5;124m\"\u001b[39m\u001b[38;5;124mc\u001b[39m\u001b[38;5;124m\"\u001b[39m,\u001b[38;5;241m1\u001b[39m,\u001b[38;5;241m2\u001b[39m,\u001b[38;5;241m3\u001b[39m)\n\u001b[1;32m----> 2\u001b[0m t1[\u001b[38;5;241m2\u001b[39m]\u001b[38;5;241m=\u001b[39m\u001b[38;5;241m0\u001b[39m\n\u001b[0;32m      3\u001b[0m t1\n",
      "\u001b[1;31mTypeError\u001b[0m: 'tuple' object does not support item assignment"
     ]
    }
   ],
   "source": [
    "t1=(\"a\",\"b\",\"c\",1,2,3)\n",
    "t1[2]=0\n",
    "t1"
   ]
  },
  {
   "cell_type": "markdown",
   "id": "edc24fd9",
   "metadata": {},
   "source": [
    "$slice$"
   ]
  },
  {
   "cell_type": "markdown",
   "id": "edd908da",
   "metadata": {},
   "source": [
    "-it is used to cut the sequence in the given list"
   ]
  },
  {
   "cell_type": "code",
   "execution_count": 59,
   "id": "67253545",
   "metadata": {},
   "outputs": [
    {
     "data": {
      "text/plain": [
       "(1, 3, 5, 'b')"
      ]
     },
     "execution_count": 59,
     "metadata": {},
     "output_type": "execute_result"
    }
   ],
   "source": [
    "t1=(1,2,3,4,5,'a','b','c','d','e','f')\n",
    "t1[0:8:2]"
   ]
  },
  {
   "cell_type": "code",
   "execution_count": 60,
   "id": "9e5ade1b",
   "metadata": {},
   "outputs": [
    {
     "data": {
      "text/plain": [
       "('e', 'c', 'a')"
      ]
     },
     "execution_count": 60,
     "metadata": {},
     "output_type": "execute_result"
    }
   ],
   "source": [
    "t1[-2:-8:-2]"
   ]
  },
  {
   "cell_type": "markdown",
   "id": "994e11ea",
   "metadata": {},
   "source": [
    "### TUPLE  Methods:"
   ]
  },
  {
   "cell_type": "markdown",
   "id": "66d10314",
   "metadata": {},
   "source": [
    "- methods are used to simplify the large steps of programs\n",
    "- they are several types of methods are there in tuples\n",
    "- some of them are shown below"
   ]
  },
  {
   "cell_type": "markdown",
   "id": "7318d6c9",
   "metadata": {},
   "source": [
    "$capitalise$ $method$"
   ]
  },
  {
   "cell_type": "markdown",
   "id": "bbf0d48b",
   "metadata": {},
   "source": [
    "- this method is used to capitalise the word"
   ]
  },
  {
   "cell_type": "code",
   "execution_count": 61,
   "id": "eae4a326",
   "metadata": {},
   "outputs": [
    {
     "name": "stdout",
     "output_type": "stream",
     "text": [
      "Hyd\n",
      "Chennai\n",
      "Mumbai\n"
     ]
    }
   ],
   "source": [
    "tuple1=(\"hyd\",\"chennai\",\"mumbai\")\n",
    "for i in tuple1:\n",
    "    print(i.capitalize())"
   ]
  },
  {
   "cell_type": "markdown",
   "id": "5720d03f",
   "metadata": {},
   "source": [
    "$Count$"
   ]
  },
  {
   "cell_type": "markdown",
   "id": "7887c4c8",
   "metadata": {},
   "source": [
    "- it is used to find the no of times which an element repeats."
   ]
  },
  {
   "cell_type": "code",
   "execution_count": 62,
   "id": "1aabdd95",
   "metadata": {},
   "outputs": [
    {
     "data": {
      "text/plain": [
       "5"
      ]
     },
     "execution_count": 62,
     "metadata": {},
     "output_type": "execute_result"
    }
   ],
   "source": [
    "tuple1=(1,2,3,4,5,'a','c','c','c','c','c')\n",
    "tuple1.count('c')"
   ]
  },
  {
   "cell_type": "markdown",
   "id": "6f43696a",
   "metadata": {},
   "source": [
    "$Directories$-$of$-$tuple$"
   ]
  },
  {
   "cell_type": "code",
   "execution_count": 63,
   "id": "f8973ac0",
   "metadata": {},
   "outputs": [
    {
     "data": {
      "text/plain": [
       "['__add__',\n",
       " '__class__',\n",
       " '__class_getitem__',\n",
       " '__contains__',\n",
       " '__delattr__',\n",
       " '__dir__',\n",
       " '__doc__',\n",
       " '__eq__',\n",
       " '__format__',\n",
       " '__ge__',\n",
       " '__getattribute__',\n",
       " '__getitem__',\n",
       " '__getnewargs__',\n",
       " '__getstate__',\n",
       " '__gt__',\n",
       " '__hash__',\n",
       " '__init__',\n",
       " '__init_subclass__',\n",
       " '__iter__',\n",
       " '__le__',\n",
       " '__len__',\n",
       " '__lt__',\n",
       " '__mul__',\n",
       " '__ne__',\n",
       " '__new__',\n",
       " '__reduce__',\n",
       " '__reduce_ex__',\n",
       " '__repr__',\n",
       " '__rmul__',\n",
       " '__setattr__',\n",
       " '__sizeof__',\n",
       " '__str__',\n",
       " '__subclasshook__',\n",
       " 'count',\n",
       " 'index']"
      ]
     },
     "execution_count": 63,
     "metadata": {},
     "output_type": "execute_result"
    }
   ],
   "source": [
    "dir(tuple)"
   ]
  },
  {
   "cell_type": "markdown",
   "id": "d3ea0c96",
   "metadata": {},
   "source": [
    "# -------------------------- THE END----------------------------"
   ]
  }
 ],
 "metadata": {
  "kernelspec": {
   "display_name": "Python 3 (ipykernel)",
   "language": "python",
   "name": "python3"
  },
  "language_info": {
   "codemirror_mode": {
    "name": "ipython",
    "version": 3
   },
   "file_extension": ".py",
   "mimetype": "text/x-python",
   "name": "python",
   "nbconvert_exporter": "python",
   "pygments_lexer": "ipython3",
   "version": "3.11.5"
  }
 },
 "nbformat": 4,
 "nbformat_minor": 5
}
