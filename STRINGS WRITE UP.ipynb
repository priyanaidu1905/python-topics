{
 "cells": [
  {
   "cell_type": "markdown",
   "id": "3ea248af",
   "metadata": {},
   "source": [
    "# ----------------------------------STRINGS----------------------------------"
   ]
  },
  {
   "cell_type": "markdown",
   "id": "c27f9d39",
   "metadata": {},
   "source": [
    "##### HOW TO READ STRINGS:"
   ]
  },
  {
   "cell_type": "markdown",
   "id": "6683952c",
   "metadata": {},
   "source": [
    "- the data which represented or written in quotes\n",
    "- there are three types of quotes:\n",
    "    * single quotes (' ')\n",
    "    * double quotes (\" \")\n",
    "    * triple quotes (\"\"\"  \"\"\").these are also called as 'doc string'."
   ]
  },
  {
   "cell_type": "code",
   "execution_count": 1,
   "id": "f1395960",
   "metadata": {},
   "outputs": [
    {
     "data": {
      "text/plain": [
       "'python'"
      ]
     },
     "execution_count": 1,
     "metadata": {},
     "output_type": "execute_result"
    }
   ],
   "source": [
    "str1='python'      #single quotes\n",
    "str1"
   ]
  },
  {
   "cell_type": "code",
   "execution_count": 2,
   "id": "889702fd",
   "metadata": {},
   "outputs": [
    {
     "data": {
      "text/plain": [
       "'python'"
      ]
     },
     "execution_count": 2,
     "metadata": {},
     "output_type": "execute_result"
    }
   ],
   "source": [
    "str2=\"python\"      #double quotes\n",
    "str2"
   ]
  },
  {
   "cell_type": "code",
   "execution_count": 4,
   "id": "3de48d48",
   "metadata": {},
   "outputs": [
    {
     "data": {
      "text/plain": [
       "'python'"
      ]
     },
     "execution_count": 4,
     "metadata": {},
     "output_type": "execute_result"
    }
   ],
   "source": [
    "str3=\"\"\"python\"\"\"   #doc string/triple quotes\n",
    "str3\n",
    "# doc string used to say somer information about your pyhton code."
   ]
  },
  {
   "cell_type": "markdown",
   "id": "7e4c0366",
   "metadata": {},
   "source": [
    "######  highliting the word python in hello python word"
   ]
  },
  {
   "cell_type": "code",
   "execution_count": 7,
   "id": "61d98833",
   "metadata": {},
   "outputs": [
    {
     "data": {
      "text/plain": [
       "'hello \"python\"'"
      ]
     },
     "execution_count": 7,
     "metadata": {},
     "output_type": "execute_result"
    }
   ],
   "source": [
    "string1='hello \"python\"'\n",
    "string1"
   ]
  },
  {
   "cell_type": "code",
   "execution_count": 8,
   "id": "bc374fc9",
   "metadata": {},
   "outputs": [
    {
     "data": {
      "text/plain": [
       "\"hello 'python'\""
      ]
     },
     "execution_count": 8,
     "metadata": {},
     "output_type": "execute_result"
    }
   ],
   "source": [
    "string2=\"hello 'python'\"\n",
    "string2"
   ]
  },
  {
   "cell_type": "markdown",
   "id": "8fcf34a4",
   "metadata": {},
   "source": [
    "$type$"
   ]
  },
  {
   "cell_type": "code",
   "execution_count": 10,
   "id": "5575401b",
   "metadata": {},
   "outputs": [
    {
     "data": {
      "text/plain": [
       "str"
      ]
     },
     "execution_count": 10,
     "metadata": {},
     "output_type": "execute_result"
    }
   ],
   "source": [
    "string1='python' #it describes the type of the given string\n",
    "type(string1)"
   ]
  },
  {
   "cell_type": "markdown",
   "id": "67038990",
   "metadata": {},
   "source": [
    "$length$"
   ]
  },
  {
   "cell_type": "code",
   "execution_count": 12,
   "id": "d91ba6d8",
   "metadata": {},
   "outputs": [
    {
     "data": {
      "text/plain": [
       "6"
      ]
     },
     "execution_count": 12,
     "metadata": {},
     "output_type": "execute_result"
    }
   ],
   "source": [
    "string1='python'   #it describes the length of the string\n",
    "len(string1)"
   ]
  },
  {
   "cell_type": "markdown",
   "id": "4eca87f4",
   "metadata": {},
   "source": [
    "$maximum$"
   ]
  },
  {
   "cell_type": "code",
   "execution_count": 13,
   "id": "190cc1eb",
   "metadata": {},
   "outputs": [
    {
     "data": {
      "text/plain": [
       "'y'"
      ]
     },
     "execution_count": 13,
     "metadata": {},
     "output_type": "execute_result"
    }
   ],
   "source": [
    "string1='python'  # it describes the maximum value of the given string by using ascii values\n",
    "max(string1)"
   ]
  },
  {
   "cell_type": "markdown",
   "id": "d9645e39",
   "metadata": {},
   "source": [
    "$minimum$"
   ]
  },
  {
   "cell_type": "code",
   "execution_count": 14,
   "id": "b0f05041",
   "metadata": {},
   "outputs": [
    {
     "data": {
      "text/plain": [
       "'h'"
      ]
     },
     "execution_count": 14,
     "metadata": {},
     "output_type": "execute_result"
    }
   ],
   "source": [
    "string1='python' # it describes the minimum value of the given string by using ascii values\n",
    "min(string1)"
   ]
  },
  {
   "cell_type": "markdown",
   "id": "ba8fe2b4",
   "metadata": {},
   "source": [
    "$ord$---$chr$"
   ]
  },
  {
   "cell_type": "markdown",
   "id": "730db065",
   "metadata": {},
   "source": [
    "- ord(letters,punctuations etc) is used to find the ascii value of an element\n",
    "- chr(numbers) is used to find the element by using ascii value"
   ]
  },
  {
   "cell_type": "code",
   "execution_count": 20,
   "id": "944a870e",
   "metadata": {},
   "outputs": [
    {
     "data": {
      "text/plain": [
       "80"
      ]
     },
     "execution_count": 20,
     "metadata": {},
     "output_type": "execute_result"
    }
   ],
   "source": [
    "ord(\"P\")"
   ]
  },
  {
   "cell_type": "code",
   "execution_count": 17,
   "id": "9938e04f",
   "metadata": {},
   "outputs": [
    {
     "data": {
      "text/plain": [
       "115"
      ]
     },
     "execution_count": 17,
     "metadata": {},
     "output_type": "execute_result"
    }
   ],
   "source": [
    "ord(\"s\")"
   ]
  },
  {
   "cell_type": "code",
   "execution_count": 18,
   "id": "2e508e48",
   "metadata": {},
   "outputs": [
    {
     "data": {
      "text/plain": [
       "'e'"
      ]
     },
     "execution_count": 18,
     "metadata": {},
     "output_type": "execute_result"
    }
   ],
   "source": [
    "chr(101)"
   ]
  },
  {
   "cell_type": "code",
   "execution_count": 21,
   "id": "11a73b82",
   "metadata": {},
   "outputs": [
    {
     "data": {
      "text/plain": [
       "'!'"
      ]
     },
     "execution_count": 21,
     "metadata": {},
     "output_type": "execute_result"
    }
   ],
   "source": [
    "chr(33)"
   ]
  },
  {
   "cell_type": "code",
   "execution_count": 22,
   "id": "8195a4eb",
   "metadata": {},
   "outputs": [
    {
     "data": {
      "text/plain": [
       "('y', 'h')"
      ]
     },
     "execution_count": 22,
     "metadata": {},
     "output_type": "execute_result"
    }
   ],
   "source": [
    "string1='python'\n",
    "max(string1),min(string1)"
   ]
  },
  {
   "cell_type": "code",
   "execution_count": 23,
   "id": "a4b8e226",
   "metadata": {},
   "outputs": [
    {
     "data": {
      "text/plain": [
       "(112, 121, 116, 104, 111, 110)"
      ]
     },
     "execution_count": 23,
     "metadata": {},
     "output_type": "execute_result"
    }
   ],
   "source": [
    "ord('p'),ord('y'),ord('t'),ord('h'),ord('o'),ord('n')"
   ]
  },
  {
   "cell_type": "code",
   "execution_count": 24,
   "id": "36eea2c0",
   "metadata": {},
   "outputs": [
    {
     "data": {
      "text/plain": [
       "('p', 'y', 't', 'h', 'o', 'n')"
      ]
     },
     "execution_count": 24,
     "metadata": {},
     "output_type": "execute_result"
    }
   ],
   "source": [
    "chr(112),chr(121),chr(116),chr(104),chr(111),chr(110)"
   ]
  },
  {
   "cell_type": "markdown",
   "id": "cfefabd0",
   "metadata": {},
   "source": [
    "$Concatenation$"
   ]
  },
  {
   "cell_type": "markdown",
   "id": "a6da4b58",
   "metadata": {},
   "source": [
    "- concatenation means addition of two strings"
   ]
  },
  {
   "cell_type": "code",
   "execution_count": 25,
   "id": "bd6cef91",
   "metadata": {},
   "outputs": [
    {
     "data": {
      "text/plain": [
       "'haihello'"
      ]
     },
     "execution_count": 25,
     "metadata": {},
     "output_type": "execute_result"
    }
   ],
   "source": [
    "str1='hai'\n",
    "str2='hello'\n",
    "str1+str2"
   ]
  },
  {
   "cell_type": "markdown",
   "id": "9d4c02ce",
   "metadata": {},
   "source": [
    "$Multiplication$"
   ]
  },
  {
   "cell_type": "markdown",
   "id": "98a1c3ef",
   "metadata": {},
   "source": [
    "- we can't multiply sequence by non-int of type string"
   ]
  },
  {
   "cell_type": "code",
   "execution_count": 28,
   "id": "b2af39c1",
   "metadata": {},
   "outputs": [
    {
     "ename": "TypeError",
     "evalue": "can't multiply sequence by non-int of type 'str'",
     "output_type": "error",
     "traceback": [
      "\u001b[1;31m---------------------------------------------------------------------------\u001b[0m",
      "\u001b[1;31mTypeError\u001b[0m                                 Traceback (most recent call last)",
      "Cell \u001b[1;32mIn[28], line 3\u001b[0m\n\u001b[0;32m      1\u001b[0m str1\u001b[38;5;241m=\u001b[39m\u001b[38;5;124m'\u001b[39m\u001b[38;5;124mhai\u001b[39m\u001b[38;5;124m'\u001b[39m\n\u001b[0;32m      2\u001b[0m str2\u001b[38;5;241m=\u001b[39m\u001b[38;5;124m'\u001b[39m\u001b[38;5;124mhello\u001b[39m\u001b[38;5;124m'\u001b[39m\n\u001b[1;32m----> 3\u001b[0m str1\u001b[38;5;241m*\u001b[39mstr2\n",
      "\u001b[1;31mTypeError\u001b[0m: can't multiply sequence by non-int of type 'str'"
     ]
    }
   ],
   "source": [
    "str1='hai'\n",
    "str2='hello'\n",
    "str1*str2"
   ]
  },
  {
   "cell_type": "code",
   "execution_count": 33,
   "id": "6accd8c4",
   "metadata": {},
   "outputs": [
    {
     "data": {
      "text/plain": [
       "'haihaihai'"
      ]
     },
     "execution_count": 33,
     "metadata": {},
     "output_type": "execute_result"
    }
   ],
   "source": [
    "str1='hai'\n",
    "str1*3     # we can multiply a string with an integer"
   ]
  },
  {
   "cell_type": "markdown",
   "id": "83e028ce",
   "metadata": {},
   "source": [
    "$subtraction$"
   ]
  },
  {
   "cell_type": "markdown",
   "id": "50328da5",
   "metadata": {},
   "source": [
    "- we cant subtract two strings it gives error"
   ]
  },
  {
   "cell_type": "code",
   "execution_count": 31,
   "id": "14323691",
   "metadata": {},
   "outputs": [
    {
     "ename": "TypeError",
     "evalue": "unsupported operand type(s) for -: 'str' and 'str'",
     "output_type": "error",
     "traceback": [
      "\u001b[1;31m---------------------------------------------------------------------------\u001b[0m",
      "\u001b[1;31mTypeError\u001b[0m                                 Traceback (most recent call last)",
      "Cell \u001b[1;32mIn[31], line 3\u001b[0m\n\u001b[0;32m      1\u001b[0m str1\u001b[38;5;241m=\u001b[39m\u001b[38;5;124m'\u001b[39m\u001b[38;5;124mhai\u001b[39m\u001b[38;5;124m'\u001b[39m\n\u001b[0;32m      2\u001b[0m str2\u001b[38;5;241m=\u001b[39m\u001b[38;5;124m'\u001b[39m\u001b[38;5;124mhello\u001b[39m\u001b[38;5;124m'\u001b[39m\n\u001b[1;32m----> 3\u001b[0m str1\u001b[38;5;241m-\u001b[39mstr2\n",
      "\u001b[1;31mTypeError\u001b[0m: unsupported operand type(s) for -: 'str' and 'str'"
     ]
    }
   ],
   "source": [
    "str1='hai'\n",
    "str2='hello'\n",
    "str1-str2"
   ]
  },
  {
   "cell_type": "markdown",
   "id": "3e28c599",
   "metadata": {},
   "source": [
    "$division$"
   ]
  },
  {
   "cell_type": "markdown",
   "id": "ecb2719b",
   "metadata": {},
   "source": [
    "-similarly we cant divide two strings.it is also gives an error as like substraction."
   ]
  },
  {
   "cell_type": "code",
   "execution_count": 32,
   "id": "1eee4fad",
   "metadata": {},
   "outputs": [
    {
     "ename": "TypeError",
     "evalue": "unsupported operand type(s) for /: 'str' and 'str'",
     "output_type": "error",
     "traceback": [
      "\u001b[1;31m---------------------------------------------------------------------------\u001b[0m",
      "\u001b[1;31mTypeError\u001b[0m                                 Traceback (most recent call last)",
      "Cell \u001b[1;32mIn[32], line 3\u001b[0m\n\u001b[0;32m      1\u001b[0m str1\u001b[38;5;241m=\u001b[39m\u001b[38;5;124m'\u001b[39m\u001b[38;5;124mhai\u001b[39m\u001b[38;5;124m'\u001b[39m\n\u001b[0;32m      2\u001b[0m str2\u001b[38;5;241m=\u001b[39m\u001b[38;5;124m'\u001b[39m\u001b[38;5;124mhello\u001b[39m\u001b[38;5;124m'\u001b[39m\n\u001b[1;32m----> 3\u001b[0m str1\u001b[38;5;241m/\u001b[39mstr2\n",
      "\u001b[1;31mTypeError\u001b[0m: unsupported operand type(s) for /: 'str' and 'str'"
     ]
    }
   ],
   "source": [
    "str1='hai'\n",
    "str2='hello'\n",
    "str1/str2"
   ]
  },
  {
   "cell_type": "markdown",
   "id": "c3a48c30",
   "metadata": {},
   "source": [
    "###### in opertor (for loop)"
   ]
  },
  {
   "cell_type": "markdown",
   "id": "c5d67c77",
   "metadata": {},
   "source": [
    "- in operator is used for strings\n",
    "- if you want to print the letters using for loop, go for \"in operator\""
   ]
  },
  {
   "cell_type": "code",
   "execution_count": 38,
   "id": "59e5c43d",
   "metadata": {},
   "outputs": [
    {
     "name": "stdout",
     "output_type": "stream",
     "text": [
      "p\n",
      "y\n",
      "t\n",
      "h\n",
      "o\n",
      "n\n"
     ]
    }
   ],
   "source": [
    "str1='python'\n",
    "'p' in str1\n",
    "'y' in str1\n",
    "'t' in str1\n",
    "'h' in str1\n",
    "'o' in str1\n",
    "'n' in str1  # this is normal way of iterate by using in operator\n",
    "# the generalised equation by using in operator is\n",
    "for i in str1:\n",
    "    print(i)"
   ]
  },
  {
   "cell_type": "code",
   "execution_count": 39,
   "id": "189961d4",
   "metadata": {},
   "outputs": [
    {
     "name": "stdout",
     "output_type": "stream",
     "text": [
      "112\n",
      "121\n",
      "116\n",
      "104\n",
      "111\n",
      "110\n"
     ]
    }
   ],
   "source": [
    "#Wap to find the ascii values of string=python by using in operator\n",
    "str1='python'\n",
    "for i in str1:\n",
    "    print(ord(i))"
   ]
  },
  {
   "cell_type": "code",
   "execution_count": 41,
   "id": "ff21c855",
   "metadata": {},
   "outputs": [
    {
     "name": "stdout",
     "output_type": "stream",
     "text": [
      "the ascii value of p is 112\n",
      "the ascii value of y is 121\n",
      "the ascii value of t is 116\n",
      "the ascii value of h is 104\n",
      "the ascii value of o is 111\n",
      "the ascii value of n is 110\n"
     ]
    }
   ],
   "source": [
    "str1='python'    # we need output as the ascii value of x is y\n",
    "for i in str1:\n",
    "    print(\"the ascii value of {} is {}\".format (i,ord(i)))"
   ]
  },
  {
   "cell_type": "code",
   "execution_count": 42,
   "id": "a4c87161",
   "metadata": {},
   "outputs": [
    {
     "name": "stdout",
     "output_type": "stream",
     "text": [
      "the ascii value of A is 65\n",
      "the ascii value of B is 66\n",
      "the ascii value of C is 67\n",
      "the ascii value of D is 68\n",
      "the ascii value of E is 69\n",
      "the ascii value of F is 70\n",
      "the ascii value of G is 71\n",
      "the ascii value of H is 72\n",
      "the ascii value of I is 73\n",
      "the ascii value of J is 74\n",
      "the ascii value of K is 75\n",
      "the ascii value of L is 76\n",
      "the ascii value of M is 77\n",
      "the ascii value of N is 78\n",
      "the ascii value of O is 79\n",
      "the ascii value of P is 80\n",
      "the ascii value of Q is 81\n",
      "the ascii value of R is 82\n",
      "the ascii value of S is 83\n",
      "the ascii value of T is 84\n",
      "the ascii value of U is 85\n",
      "the ascii value of V is 86\n",
      "the ascii value of W is 87\n",
      "the ascii value of X is 88\n",
      "the ascii value of Y is 89\n",
      "the ascii value of Z is 90\n"
     ]
    }
   ],
   "source": [
    "# wap to find the ascii values of alphabets by using in operator \n",
    "import string\n",
    "dir(string)\n",
    "for i in string.ascii_uppercase:\n",
    "    print(\"the ascii value of {} is {}\".format(i,ord(i)))"
   ]
  },
  {
   "cell_type": "markdown",
   "id": "3aac746c",
   "metadata": {},
   "source": [
    "$Index$"
   ]
  },
  {
   "cell_type": "markdown",
   "id": "7501e11c",
   "metadata": {},
   "source": [
    "- Index is used to find the sequence number of the element\n",
    "- index is representeed in[] \n",
    "- it is a numeric value"
   ]
  },
  {
   "cell_type": "code",
   "execution_count": 46,
   "id": "f24620a6",
   "metadata": {},
   "outputs": [
    {
     "data": {
      "text/plain": [
       "('p', 'y', 't', 'h', 'o', 'n')"
      ]
     },
     "execution_count": 46,
     "metadata": {},
     "output_type": "execute_result"
    }
   ],
   "source": [
    "str1='python'\n",
    "str1[0],str1[1],str1[2],str1[3],str1[4],str1[5] "
   ]
  },
  {
   "cell_type": "code",
   "execution_count": 48,
   "id": "1557c845",
   "metadata": {},
   "outputs": [
    {
     "name": "stdout",
     "output_type": "stream",
     "text": [
      "0 p\n",
      "1 y\n",
      "2 t\n",
      "3 h\n",
      "4 o\n",
      "5 n\n"
     ]
    }
   ],
   "source": [
    "# generalised equation for above program\n",
    "str1='python'\n",
    "for i in range(len(str1)):\n",
    "    print(i,str1[i])"
   ]
  },
  {
   "cell_type": "code",
   "execution_count": 49,
   "id": "395f0b41",
   "metadata": {},
   "outputs": [
    {
     "name": "stdout",
     "output_type": "stream",
     "text": [
      "p\n",
      "y\n",
      "t\n",
      "h\n",
      "o\n",
      "n\n"
     ]
    }
   ],
   "source": [
    "str1='python'\n",
    "for i in str1:\n",
    "    print(i)"
   ]
  },
  {
   "cell_type": "markdown",
   "id": "6fc976a4",
   "metadata": {},
   "source": [
    "$mutable$-$immutable$ $condition$"
   ]
  },
  {
   "cell_type": "markdown",
   "id": "38602073",
   "metadata": {},
   "source": [
    "- mutable means we can change; immutable means we cant change.\n",
    "- strings are immutable.`"
   ]
  },
  {
   "cell_type": "markdown",
   "id": "edc24fd9",
   "metadata": {},
   "source": [
    "$slice$"
   ]
  },
  {
   "cell_type": "markdown",
   "id": "edd908da",
   "metadata": {},
   "source": [
    "-it is used to cut the sequence in the given string"
   ]
  },
  {
   "cell_type": "code",
   "execution_count": 53,
   "id": "e2272f50",
   "metadata": {},
   "outputs": [
    {
     "data": {
      "text/plain": [
       "'i how ar'"
      ]
     },
     "execution_count": 53,
     "metadata": {},
     "output_type": "execute_result"
    }
   ],
   "source": [
    "string='hai how are you'\n",
    "string[2:10]"
   ]
  },
  {
   "cell_type": "code",
   "execution_count": 54,
   "id": "2d7987e3",
   "metadata": {},
   "outputs": [
    {
     "data": {
      "text/plain": [
       "' how are y'"
      ]
     },
     "execution_count": 54,
     "metadata": {},
     "output_type": "execute_result"
    }
   ],
   "source": [
    "string[3:13:1]"
   ]
  },
  {
   "cell_type": "code",
   "execution_count": 55,
   "id": "d08a28f9",
   "metadata": {},
   "outputs": [
    {
     "data": {
      "text/plain": [
       "'hai how are you'"
      ]
     },
     "execution_count": 55,
     "metadata": {},
     "output_type": "execute_result"
    }
   ],
   "source": [
    "string[:]"
   ]
  },
  {
   "cell_type": "code",
   "execution_count": 56,
   "id": "58c005f4",
   "metadata": {},
   "outputs": [
    {
     "data": {
      "text/plain": [
       "'hai how are you'"
      ]
     },
     "execution_count": 56,
     "metadata": {},
     "output_type": "execute_result"
    }
   ],
   "source": [
    "string[::]"
   ]
  },
  {
   "cell_type": "code",
   "execution_count": 57,
   "id": "22ced260",
   "metadata": {},
   "outputs": [
    {
     "data": {
      "text/plain": [
       "''"
      ]
     },
     "execution_count": 57,
     "metadata": {},
     "output_type": "execute_result"
    }
   ],
   "source": [
    "string[2:10:-3]"
   ]
  },
  {
   "cell_type": "markdown",
   "id": "994e11ea",
   "metadata": {},
   "source": [
    "### String Methods:"
   ]
  },
  {
   "cell_type": "markdown",
   "id": "66d10314",
   "metadata": {},
   "source": [
    "- methods are used to simplify the large steps of programs\n",
    "- they are several types of methods are there in string\n",
    "- some of them are shown below"
   ]
  },
  {
   "cell_type": "markdown",
   "id": "7318d6c9",
   "metadata": {},
   "source": [
    "$capitalise$ $method$"
   ]
  },
  {
   "cell_type": "markdown",
   "id": "bbf0d48b",
   "metadata": {},
   "source": [
    "- this method is used to capitalise the word"
   ]
  },
  {
   "cell_type": "code",
   "execution_count": 58,
   "id": "b17ad1a0",
   "metadata": {},
   "outputs": [
    {
     "data": {
      "text/plain": [
       "'Welcome'"
      ]
     },
     "execution_count": 58,
     "metadata": {},
     "output_type": "execute_result"
    }
   ],
   "source": [
    "str1='welcome'\n",
    "str1.capitalize()"
   ]
  },
  {
   "cell_type": "code",
   "execution_count": 59,
   "id": "44aa11e9",
   "metadata": {},
   "outputs": [
    {
     "data": {
      "text/plain": [
       "'WELCOME'"
      ]
     },
     "execution_count": 59,
     "metadata": {},
     "output_type": "execute_result"
    }
   ],
   "source": [
    "str1.upper()"
   ]
  },
  {
   "cell_type": "code",
   "execution_count": 60,
   "id": "90a49e54",
   "metadata": {},
   "outputs": [
    {
     "data": {
      "text/plain": [
       "'welcome'"
      ]
     },
     "execution_count": 60,
     "metadata": {},
     "output_type": "execute_result"
    }
   ],
   "source": [
    "str1.lower()"
   ]
  },
  {
   "cell_type": "markdown",
   "id": "ccbb5946",
   "metadata": {},
   "source": [
    "$index$"
   ]
  },
  {
   "cell_type": "markdown",
   "id": "6f124534",
   "metadata": {},
   "source": [
    "-it is used to find the index number of an element."
   ]
  },
  {
   "cell_type": "code",
   "execution_count": 63,
   "id": "7297dbea",
   "metadata": {},
   "outputs": [
    {
     "data": {
      "text/plain": [
       "8"
      ]
     },
     "execution_count": 63,
     "metadata": {},
     "output_type": "execute_result"
    }
   ],
   "source": [
    "string='welcome python'\n",
    "string.index('p')"
   ]
  },
  {
   "cell_type": "code",
   "execution_count": 69,
   "id": "ace057ab",
   "metadata": {},
   "outputs": [
    {
     "data": {
      "text/plain": [
       "(1, 5, 9, 13, 17)"
      ]
     },
     "execution_count": 69,
     "metadata": {},
     "output_type": "execute_result"
    }
   ],
   "source": [
    "string='hai hai hai hai hai'\n",
    "# find the indexex of \"a\" in string\n",
    "i1=string.index(\"a\")\n",
    "i2=string.index(\"a\",i1+1)\n",
    "i3=string.index(\"a\",i2+1)\n",
    "i4=string.index(\"a\",i3+1)\n",
    "i5=string.index(\"a\",i4+1)\n",
    "i1,i2,i3,i4,i5"
   ]
  },
  {
   "cell_type": "markdown",
   "id": "2138c4dc",
   "metadata": {},
   "source": [
    "$find$"
   ]
  },
  {
   "cell_type": "code",
   "execution_count": 80,
   "id": "fb623835",
   "metadata": {},
   "outputs": [
    {
     "data": {
      "text/plain": [
       "1"
      ]
     },
     "execution_count": 80,
     "metadata": {},
     "output_type": "execute_result"
    }
   ],
   "source": [
    "string='hai hai hai'\n",
    "z=string.find('a')\n",
    "z"
   ]
  },
  {
   "cell_type": "code",
   "execution_count": 82,
   "id": "462fb066",
   "metadata": {},
   "outputs": [
    {
     "data": {
      "text/plain": [
       "5"
      ]
     },
     "execution_count": 82,
     "metadata": {},
     "output_type": "execute_result"
    }
   ],
   "source": [
    "z1=string.find('a',z+1)\n",
    "z1"
   ]
  },
  {
   "cell_type": "code",
   "execution_count": 83,
   "id": "6bfad9bc",
   "metadata": {},
   "outputs": [
    {
     "data": {
      "text/plain": [
       "9"
      ]
     },
     "execution_count": 83,
     "metadata": {},
     "output_type": "execute_result"
    }
   ],
   "source": [
    "z2=string.find(\"a\",z1+1)\n",
    "z2"
   ]
  },
  {
   "cell_type": "code",
   "execution_count": 87,
   "id": "9e54660b",
   "metadata": {},
   "outputs": [
    {
     "data": {
      "text/plain": [
       "-1"
      ]
     },
     "execution_count": 87,
     "metadata": {},
     "output_type": "execute_result"
    }
   ],
   "source": [
    "string.find('z') "
   ]
  },
  {
   "cell_type": "markdown",
   "id": "65a9cd2d",
   "metadata": {},
   "source": [
    "- -1 represents substring is not found"
   ]
  },
  {
   "cell_type": "markdown",
   "id": "5720d03f",
   "metadata": {},
   "source": [
    "$Count$"
   ]
  },
  {
   "cell_type": "markdown",
   "id": "7887c4c8",
   "metadata": {},
   "source": [
    "- it is used to find the no of times which an element repeats."
   ]
  },
  {
   "cell_type": "code",
   "execution_count": 89,
   "id": "274f3324",
   "metadata": {},
   "outputs": [
    {
     "data": {
      "text/plain": [
       "2"
      ]
     },
     "execution_count": 89,
     "metadata": {},
     "output_type": "execute_result"
    }
   ],
   "source": [
    "string='hai hello'\n",
    "string.count(\"l\")"
   ]
  },
  {
   "cell_type": "code",
   "execution_count": 90,
   "id": "74fcdccb",
   "metadata": {},
   "outputs": [
    {
     "data": {
      "text/plain": [
       "3"
      ]
     },
     "execution_count": 90,
     "metadata": {},
     "output_type": "execute_result"
    }
   ],
   "source": [
    "string=\"hai hai hai\"\n",
    "string.count(\"hai\")"
   ]
  },
  {
   "cell_type": "code",
   "execution_count": 91,
   "id": "19411c39",
   "metadata": {},
   "outputs": [
    {
     "data": {
      "text/plain": [
       "1"
      ]
     },
     "execution_count": 91,
     "metadata": {},
     "output_type": "execute_result"
    }
   ],
   "source": [
    "string=\"hai how are you\"\n",
    "string.count(\"a\",2)"
   ]
  },
  {
   "cell_type": "markdown",
   "id": "05eb52bd",
   "metadata": {},
   "source": [
    "$Replace$"
   ]
  },
  {
   "cell_type": "markdown",
   "id": "18f051fb",
   "metadata": {},
   "source": [
    "- it is used to replace a word in the given string"
   ]
  },
  {
   "cell_type": "code",
   "execution_count": 94,
   "id": "3a889146",
   "metadata": {},
   "outputs": [
    {
     "data": {
      "text/plain": [
       "'Restart'"
      ]
     },
     "execution_count": 94,
     "metadata": {},
     "output_type": "execute_result"
    }
   ],
   "source": [
    "str1='restart'\n",
    "str1.replace('r','R',1)"
   ]
  },
  {
   "cell_type": "code",
   "execution_count": 95,
   "id": "d582987a",
   "metadata": {},
   "outputs": [
    {
     "data": {
      "text/plain": [
       "'RestaRt'"
      ]
     },
     "execution_count": 95,
     "metadata": {},
     "output_type": "execute_result"
    }
   ],
   "source": [
    "str1.replace('r','R')"
   ]
  },
  {
   "cell_type": "code",
   "execution_count": 101,
   "id": "ef194a81",
   "metadata": {},
   "outputs": [
    {
     "data": {
      "text/plain": [
       "'restaRt'"
      ]
     },
     "execution_count": 101,
     "metadata": {},
     "output_type": "execute_result"
    }
   ],
   "source": [
    "str1='restart'   # replace the last r with R\n",
    "s1=str1[0]\n",
    "s2=str1[1:].replace('r','R')\n",
    "s1+s2"
   ]
  },
  {
   "cell_type": "markdown",
   "id": "2cceddd1",
   "metadata": {},
   "source": [
    "$lstrip/rstrip/strip$"
   ]
  },
  {
   "cell_type": "markdown",
   "id": "cbedfb7e",
   "metadata": {},
   "source": [
    "- lstrip is used to remove the space at left side \n",
    "- rstrip is used to remove the space at right side\n",
    "- strip is used to remove the space at both right and left side"
   ]
  },
  {
   "cell_type": "code",
   "execution_count": 104,
   "id": "cd3eb52c",
   "metadata": {},
   "outputs": [
    {
     "name": "stdout",
     "output_type": "stream",
     "text": [
      "hai hello\n",
      "hai hello\n",
      "hai hello\n"
     ]
    }
   ],
   "source": [
    "str1=\" hai hello\"\n",
    "str2=\"hai hello \"\n",
    "str3=\" hai hello \"\n",
    "print(str1.lstrip())\n",
    "print(str2.rstrip())\n",
    "print(str3.strip())"
   ]
  },
  {
   "cell_type": "markdown",
   "id": "430e2409",
   "metadata": {},
   "source": [
    "$startswith/endswith$"
   ]
  },
  {
   "cell_type": "markdown",
   "id": "568768fc",
   "metadata": {},
   "source": [
    "- it is like true or false type\n",
    "- startswith belongs to starting value of the string\n",
    "- endswith belongs to ending value of the string"
   ]
  },
  {
   "cell_type": "code",
   "execution_count": 108,
   "id": "152fa1ff",
   "metadata": {},
   "outputs": [
    {
     "name": "stdout",
     "output_type": "stream",
     "text": [
      "True\n",
      "True\n",
      "True\n",
      "True\n",
      "True\n",
      "True\n"
     ]
    }
   ],
   "source": [
    "str1='hai how are you'\n",
    "print(str1.startswith('hai'))\n",
    "print(str1.startswith('h'))\n",
    "print(str1.startswith(str1))\n",
    "print(str1.endswith('you'))\n",
    "print(str1.endswith('u'))\n",
    "print(str1.endswith(str1))"
   ]
  },
  {
   "cell_type": "code",
   "execution_count": 109,
   "id": "006024be",
   "metadata": {},
   "outputs": [
    {
     "name": "stdout",
     "output_type": "stream",
     "text": [
      "False\n",
      "False\n"
     ]
    }
   ],
   "source": [
    "print(str1.endswith('h'))\n",
    "print(str1.startswith('u'))"
   ]
  },
  {
   "cell_type": "markdown",
   "id": "43d370c3",
   "metadata": {},
   "source": [
    "$isalpha/isnumeric/isalnum$`"
   ]
  },
  {
   "cell_type": "markdown",
   "id": "d60139cc",
   "metadata": {},
   "source": [
    "- isalpha is a method which describes,weather the string is alphabetic or not\n",
    "- isnumeric is a method which describes,weather the string is numeric  or not\n",
    "- isalnum is a method which describes,weather the string have alphabetic or numeric."
   ]
  },
  {
   "cell_type": "code",
   "execution_count": 111,
   "id": "9d40df83",
   "metadata": {},
   "outputs": [
    {
     "name": "stdout",
     "output_type": "stream",
     "text": [
      "True\n",
      "False\n",
      "True\n"
     ]
    }
   ],
   "source": [
    "str1='abc'\n",
    "print(str1.isalpha())\n",
    "print(str1.isnumeric())\n",
    "print(str1.isalnum())"
   ]
  },
  {
   "cell_type": "code",
   "execution_count": 112,
   "id": "311d78ab",
   "metadata": {},
   "outputs": [
    {
     "name": "stdout",
     "output_type": "stream",
     "text": [
      "False\n",
      "True\n",
      "True\n"
     ]
    }
   ],
   "source": [
    "str1='123'\n",
    "print(str1.isalpha())\n",
    "print(str1.isnumeric())\n",
    "print(str1.isalnum())"
   ]
  },
  {
   "cell_type": "code",
   "execution_count": 115,
   "id": "96d7366a",
   "metadata": {},
   "outputs": [
    {
     "name": "stdout",
     "output_type": "stream",
     "text": [
      "False\n",
      "False\n",
      "True\n"
     ]
    }
   ],
   "source": [
    "str3='abc123'\n",
    "print(str3.isalpha())\n",
    "print(str3.isnumeric())\n",
    "print(str3.isalnum())"
   ]
  },
  {
   "cell_type": "markdown",
   "id": "f02ffd6c",
   "metadata": {},
   "source": [
    "$split$"
   ]
  },
  {
   "cell_type": "markdown",
   "id": "1fa8017d",
   "metadata": {},
   "source": [
    "- split is used to slip the string.\n",
    "- if we dont provide anything inside the bracket it takes space \n",
    "- output is in the format of list"
   ]
  },
  {
   "cell_type": "code",
   "execution_count": 117,
   "id": "b7fda2f5",
   "metadata": {},
   "outputs": [
    {
     "data": {
      "text/plain": [
       "['hai', 'how', 'are', 'you']"
      ]
     },
     "execution_count": 117,
     "metadata": {},
     "output_type": "execute_result"
    }
   ],
   "source": [
    "str1='hai how are you'\n",
    "str1.split()"
   ]
  },
  {
   "cell_type": "code",
   "execution_count": 130,
   "id": "f993e339",
   "metadata": {},
   "outputs": [
    {
     "data": {
      "text/plain": [
       "['h', 'i how,', 're you']"
      ]
     },
     "execution_count": 130,
     "metadata": {},
     "output_type": "execute_result"
    }
   ],
   "source": [
    "str2='hai how,are you'\n",
    "str2.split(\"a\")"
   ]
  },
  {
   "cell_type": "code",
   "execution_count": 129,
   "id": "b06a5e99",
   "metadata": {},
   "outputs": [
    {
     "data": {
      "text/plain": [
       "['ha', ' hello']"
      ]
     },
     "execution_count": 129,
     "metadata": {},
     "output_type": "execute_result"
    }
   ],
   "source": [
    "str3='hai hello'\n",
    "str3.split(\"i\")"
   ]
  },
  {
   "cell_type": "markdown",
   "id": "d3ea0c96",
   "metadata": {},
   "source": [
    "# -------------------------------------------- THE END---------------------------------------------"
   ]
  }
 ],
 "metadata": {
  "kernelspec": {
   "display_name": "Python 3 (ipykernel)",
   "language": "python",
   "name": "python3"
  },
  "language_info": {
   "codemirror_mode": {
    "name": "ipython",
    "version": 3
   },
   "file_extension": ".py",
   "mimetype": "text/x-python",
   "name": "python",
   "nbconvert_exporter": "python",
   "pygments_lexer": "ipython3",
   "version": "3.11.5"
  }
 },
 "nbformat": 4,
 "nbformat_minor": 5
}
